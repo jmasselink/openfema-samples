{
 "cells": [
  {
   "cell_type": "markdown",
   "id": "88fd0ee2-d3c6-4d11-aa47-38b8c9a513cb",
   "metadata": {},
   "source": [
    "#### OpenFEMA API\n",
    "We will likely want to query one of these OpenFEMA endpoints\n",
    "- FEMA Web Disaster Declarations endpoint:\n",
    "https://www.fema.gov/api/open/v1/FemaWebDisasterDeclarations\n",
    "\n",
    "<b>[documentation](https://www.fema.gov/openfema-data-page/fema-web-disaster-declarations-v1)</b>\n",
    "\n",
    "- or Disaster Declaration Summaries endpoint:\n",
    "https://www.fema.gov/api/open/v2/DisasterDeclarationsSummaries  \n",
    "\n",
    "<b>[documentation](https://www.fema.gov/openfema-data-page/disaster-declarations-summaries-v2)</b>\n",
    "\n",
    "<div class=\"alert alert-block alert-warning\"><b>From the API documentation:</b><br>\n",
    "To determine which FEMA events have been authorized to receive Individual Assistance, use both <b>ihProgramDeclared</b> and <b>iaProgramDeclared</b>. \n",
    "    \n",
    "For more information see https://www.fema.gov/about/openfema/faq`\n",
    "\n",
    "For more information on the program, please visit https://www.fema.gov/assistance/individual/program.\n",
    "</div>"
   ]
  },
  {
   "cell_type": "markdown",
   "id": "82a1badb-d976-420d-b527-60aaf79a8d76",
   "metadata": {},
   "source": [
    "**Name**|**Title**|**Type**|**Description**|**Is Searchable**\n",
    "|-----|-----|-----|-----|-----|\n",
    "|ihProgramDeclared|IH Program Declared|boolean|Denotes whether the Individuals and Households program was declared for this disaster.| yes|\n",
    "|iaProgramDeclared|IA Program Declared|boolean|Denotes whether the Individual Assistance program was declared for this disaster. | yes|"
   ]
  },
  {
   "cell_type": "code",
   "execution_count": 18,
   "id": "0abf9b15-b158-4cd7-b3d8-c8615b6044e5",
   "metadata": {},
   "outputs": [
    {
     "name": "stdout",
     "output_type": "stream",
     "text": [
      "b'{\"metadata\": {\"skip\":0,\"filter\":\"\",\"orderby\":\"\",\"select\":null,\"rundate\":\"2024-04-19T16:41:32.149Z\",\"top\":1000,\"format\":\"json\",\"metadata\":true,\"entityname\":\"FemaWebDisasterDeclarations\",\"version\":\"v1\",\"url\":\"/api/open/v1/FemaWebDisasterDeclarations\",\"count\":0}, \"FemaWebDisasterDeclarations\": [{\"disasterNumber\":4734,\"declarationDate\":\"2023-08-31T00:00:00.000Z\",\"disasterName\":\"HURRICANE IDALIA\",\"incidentBeginDate\":\"2023-08-27T00:00:00.000Z\",\"incidentEndDate\":\"2023-09-04T00:00:00.000Z\",\"declarationT'\n"
     ]
    }
   ],
   "source": [
    "# declare a URL handling module\n",
    "import urllib.request\n",
    "\n",
    "# define URL for the FEMA Web Disaster Declarations endpoint\n",
    "baseUrl = \"https://www.fema.gov/api/open/v1/FemaWebDisasterDeclarations\"\n",
    "#baseUrl = \"https://www.fema.gov/api/open/v2/DisasterDeclarationsSummaries\"\n",
    "\n",
    "# open the URL as defined above and create a the request object \n",
    "request = urllib.request.urlopen(baseUrl)\n",
    "\n",
    "# actually read the data\n",
    "result = request.read()\n",
    "\n",
    "# printing the full result will be huge, so only show the first 500 characters of what was returned\n",
    "print(result[:500])\n"
   ]
  },
  {
   "cell_type": "markdown",
   "id": "8220234e-7f57-4e0b-9e01-a139a58f3225",
   "metadata": {},
   "source": [
    "The above displays the first 500 characters of what was returned. The request.read() function above returns a \"bytes object\" as there is no way to automatically determine the encoding of the byte stream it receives from the HTTP server. We have to decode it first. The following shows the same 500 characters decoded."
   ]
  },
  {
   "cell_type": "code",
   "execution_count": 19,
   "id": "ef536017-e616-4047-8011-c9cafba46868",
   "metadata": {},
   "outputs": [
    {
     "name": "stdout",
     "output_type": "stream",
     "text": [
      "{\"metadata\": {\"skip\":0,\"filter\":\"\",\"orderby\":\"\",\"select\":null,\"rundate\":\"2024-04-19T16:41:32.149Z\",\"top\":1000,\"format\":\"json\",\"metadata\":true,\"entityname\":\"FemaWebDisasterDeclarations\",\"version\":\"v1\",\"url\":\"/api/open/v1/FemaWebDisasterDeclarations\",\"count\":0}, \"FemaWebDisasterDeclarations\": [{\"disasterNumber\":4734,\"declarationDate\":\"2023-08-31T00:00:00.000Z\",\"disasterName\":\"HURRICANE IDALIA\",\"incidentBeginDate\":\"2023-08-27T00:00:00.000Z\",\"incidentEndDate\":\"2023-09-04T00:00:00.000Z\",\"declarationT\n"
     ]
    }
   ],
   "source": [
    "# decode and show the first 500 characters of what was returned\n",
    "print(result.decode('utf-8')[:500])"
   ]
  },
  {
   "cell_type": "markdown",
   "id": "90c847cb-e089-48d2-96e4-85003515fc82",
   "metadata": {},
   "source": [
    "To make the returned data easily usable we can transform the results into a Python dictionary. This is easily accomplished using Python's built-in json library/module. We can also use the json library to display the result in a more readable fashion.\n",
    "\n",
    "<div class=\"alert alert-block alert-warning\">\n",
    "    <b>Note:</b> If you are a beginner, and the previous statements seem confusing, the point is that the return from the request (i.e., result = request.read()) is not easy to use in its initial format. We are transforming the data into a format that is easier to work with.\n",
    "</div>"
   ]
  },
  {
   "cell_type": "code",
   "execution_count": 20,
   "id": "8df08d2c-3871-41fc-8378-87f154f1fde7",
   "metadata": {},
   "outputs": [],
   "source": [
    "import json\n",
    "\n",
    "# transform to Python dictionary\n",
    "jsonData = json.loads(result.decode('utf-8'))\n",
    "\n",
    "# use the dumps() function to display all of the data in a readable format\n",
    "# NOTE: line commented out otherwise the screen would be filled with 1000 records.\n",
    "#       Download the notebook, uncomment and try it yourself.\n",
    "# print(json.dumps(jsonData, indent=2))"
   ]
  },
  {
   "cell_type": "code",
   "execution_count": 21,
   "id": "eaa0836d-abf2-4307-9515-36f70107977e",
   "metadata": {},
   "outputs": [],
   "source": [
    "import pandas as pd"
   ]
  },
  {
   "cell_type": "code",
   "execution_count": 22,
   "id": "4dbe5882-9a6d-4d8c-a7be-56be84dedc0e",
   "metadata": {},
   "outputs": [],
   "source": [
    "# Assuming jsonData is a dictionary with 'FemaWebDisasterDeclarations' containing a list of records\n",
    "# Convert it to a DataFrame if it's not already\n",
    "\n",
    "jsonData = {'FemaWebDisasterDeclarations': [\n",
    "    {'disasterNumber': 1, 'disasterName': 'Disaster1', 'stateName': 'State1', 'declarationDate': '2024-01-01', 'declarationType': 'Major Disaster', 'ihProgramDeclared': True},\n",
    "    {'disasterNumber': 2, 'disasterName': 'Disaster2', 'stateName': 'State2', 'declarationDate': '2024-02-02', 'declarationType': 'Major Disaster', 'ihProgramDeclared': False},\n",
    "    {'disasterNumber': 3, 'disasterName': 'Disaster3', 'stateName': 'State3', 'declarationDate': '2024-03-03', 'declarationType': 'Minor Disaster', 'ihProgramDeclared': True}\n",
    "]}"
   ]
  },
  {
   "cell_type": "code",
   "execution_count": 23,
   "id": "b735be32-6710-4005-803e-5a3c1453c075",
   "metadata": {},
   "outputs": [],
   "source": [
    "# df = pd.DataFrame(jsonData['FemaWebDisasterDeclarations'])\n",
    "df = pd.DataFrame(jsonData)\n"
   ]
  },
  {
   "cell_type": "code",
   "execution_count": 24,
   "id": "6f6f118f-31c0-4cbd-92f3-acd464509a3b",
   "metadata": {},
   "outputs": [
    {
     "data": {
      "text/html": [
       "<div>\n",
       "<style scoped>\n",
       "    .dataframe tbody tr th:only-of-type {\n",
       "        vertical-align: middle;\n",
       "    }\n",
       "\n",
       "    .dataframe tbody tr th {\n",
       "        vertical-align: top;\n",
       "    }\n",
       "\n",
       "    .dataframe thead th {\n",
       "        text-align: right;\n",
       "    }\n",
       "</style>\n",
       "<table border=\"1\" class=\"dataframe\">\n",
       "  <thead>\n",
       "    <tr style=\"text-align: right;\">\n",
       "      <th></th>\n",
       "      <th>FemaWebDisasterDeclarations</th>\n",
       "    </tr>\n",
       "  </thead>\n",
       "  <tbody>\n",
       "    <tr>\n",
       "      <th>0</th>\n",
       "      <td>{'disasterNumber': 1, 'disasterName': 'Disaste...</td>\n",
       "    </tr>\n",
       "    <tr>\n",
       "      <th>1</th>\n",
       "      <td>{'disasterNumber': 2, 'disasterName': 'Disaste...</td>\n",
       "    </tr>\n",
       "    <tr>\n",
       "      <th>2</th>\n",
       "      <td>{'disasterNumber': 3, 'disasterName': 'Disaste...</td>\n",
       "    </tr>\n",
       "  </tbody>\n",
       "</table>\n",
       "</div>"
      ],
      "text/plain": [
       "                         FemaWebDisasterDeclarations\n",
       "0  {'disasterNumber': 1, 'disasterName': 'Disaste...\n",
       "1  {'disasterNumber': 2, 'disasterName': 'Disaste...\n",
       "2  {'disasterNumber': 3, 'disasterName': 'Disaste..."
      ]
     },
     "execution_count": 24,
     "metadata": {},
     "output_type": "execute_result"
    }
   ],
   "source": [
    "df"
   ]
  },
  {
   "cell_type": "code",
   "execution_count": 26,
   "id": "8e85ce88-8fe7-4022-98f3-13c32ee9bfea",
   "metadata": {},
   "outputs": [
    {
     "ename": "KeyError",
     "evalue": "'declarationType'",
     "output_type": "error",
     "traceback": [
      "\u001b[0;31m---------------------------------------------------------------------------\u001b[0m",
      "\u001b[0;31mKeyError\u001b[0m                                  Traceback (most recent call last)",
      "File \u001b[0;32m/opt/miniconda3/envs/datasci/lib/python3.12/site-packages/pandas/core/indexes/base.py:3791\u001b[0m, in \u001b[0;36mIndex.get_loc\u001b[0;34m(self, key)\u001b[0m\n\u001b[1;32m   3790\u001b[0m \u001b[38;5;28;01mtry\u001b[39;00m:\n\u001b[0;32m-> 3791\u001b[0m     \u001b[38;5;28;01mreturn\u001b[39;00m \u001b[38;5;28mself\u001b[39m\u001b[38;5;241m.\u001b[39m_engine\u001b[38;5;241m.\u001b[39mget_loc(casted_key)\n\u001b[1;32m   3792\u001b[0m \u001b[38;5;28;01mexcept\u001b[39;00m \u001b[38;5;167;01mKeyError\u001b[39;00m \u001b[38;5;28;01mas\u001b[39;00m err:\n",
      "File \u001b[0;32mindex.pyx:152\u001b[0m, in \u001b[0;36mpandas._libs.index.IndexEngine.get_loc\u001b[0;34m()\u001b[0m\n",
      "File \u001b[0;32mindex.pyx:181\u001b[0m, in \u001b[0;36mpandas._libs.index.IndexEngine.get_loc\u001b[0;34m()\u001b[0m\n",
      "File \u001b[0;32mpandas/_libs/hashtable_class_helper.pxi:7080\u001b[0m, in \u001b[0;36mpandas._libs.hashtable.PyObjectHashTable.get_item\u001b[0;34m()\u001b[0m\n",
      "File \u001b[0;32mpandas/_libs/hashtable_class_helper.pxi:7088\u001b[0m, in \u001b[0;36mpandas._libs.hashtable.PyObjectHashTable.get_item\u001b[0;34m()\u001b[0m\n",
      "\u001b[0;31mKeyError\u001b[0m: 'declarationType'",
      "\nThe above exception was the direct cause of the following exception:\n",
      "\u001b[0;31mKeyError\u001b[0m                                  Traceback (most recent call last)",
      "Cell \u001b[0;32mIn[26], line 2\u001b[0m\n\u001b[1;32m      1\u001b[0m \u001b[38;5;66;03m# Filter the DataFrame\u001b[39;00m\n\u001b[0;32m----> 2\u001b[0m filtered_df \u001b[38;5;241m=\u001b[39m df[(df[\u001b[38;5;124m'\u001b[39m\u001b[38;5;124mdeclarationType\u001b[39m\u001b[38;5;124m'\u001b[39m] \u001b[38;5;241m==\u001b[39m \u001b[38;5;124m'\u001b[39m\u001b[38;5;124mMajor Disaster\u001b[39m\u001b[38;5;124m'\u001b[39m)] \u001b[38;5;66;03m# & (df['ihProgramDeclared'] == True)]\u001b[39;00m\n\u001b[1;32m      4\u001b[0m \u001b[38;5;66;03m# Iterate over the filtered DataFrame\u001b[39;00m\n\u001b[1;32m      5\u001b[0m \u001b[38;5;28;01mfor\u001b[39;00m index, rec \u001b[38;5;129;01min\u001b[39;00m filtered_df\u001b[38;5;241m.\u001b[39miterrows():\n",
      "File \u001b[0;32m/opt/miniconda3/envs/datasci/lib/python3.12/site-packages/pandas/core/frame.py:3893\u001b[0m, in \u001b[0;36mDataFrame.__getitem__\u001b[0;34m(self, key)\u001b[0m\n\u001b[1;32m   3891\u001b[0m \u001b[38;5;28;01mif\u001b[39;00m \u001b[38;5;28mself\u001b[39m\u001b[38;5;241m.\u001b[39mcolumns\u001b[38;5;241m.\u001b[39mnlevels \u001b[38;5;241m>\u001b[39m \u001b[38;5;241m1\u001b[39m:\n\u001b[1;32m   3892\u001b[0m     \u001b[38;5;28;01mreturn\u001b[39;00m \u001b[38;5;28mself\u001b[39m\u001b[38;5;241m.\u001b[39m_getitem_multilevel(key)\n\u001b[0;32m-> 3893\u001b[0m indexer \u001b[38;5;241m=\u001b[39m \u001b[38;5;28mself\u001b[39m\u001b[38;5;241m.\u001b[39mcolumns\u001b[38;5;241m.\u001b[39mget_loc(key)\n\u001b[1;32m   3894\u001b[0m \u001b[38;5;28;01mif\u001b[39;00m is_integer(indexer):\n\u001b[1;32m   3895\u001b[0m     indexer \u001b[38;5;241m=\u001b[39m [indexer]\n",
      "File \u001b[0;32m/opt/miniconda3/envs/datasci/lib/python3.12/site-packages/pandas/core/indexes/base.py:3798\u001b[0m, in \u001b[0;36mIndex.get_loc\u001b[0;34m(self, key)\u001b[0m\n\u001b[1;32m   3793\u001b[0m     \u001b[38;5;28;01mif\u001b[39;00m \u001b[38;5;28misinstance\u001b[39m(casted_key, \u001b[38;5;28mslice\u001b[39m) \u001b[38;5;129;01mor\u001b[39;00m (\n\u001b[1;32m   3794\u001b[0m         \u001b[38;5;28misinstance\u001b[39m(casted_key, abc\u001b[38;5;241m.\u001b[39mIterable)\n\u001b[1;32m   3795\u001b[0m         \u001b[38;5;129;01mand\u001b[39;00m \u001b[38;5;28many\u001b[39m(\u001b[38;5;28misinstance\u001b[39m(x, \u001b[38;5;28mslice\u001b[39m) \u001b[38;5;28;01mfor\u001b[39;00m x \u001b[38;5;129;01min\u001b[39;00m casted_key)\n\u001b[1;32m   3796\u001b[0m     ):\n\u001b[1;32m   3797\u001b[0m         \u001b[38;5;28;01mraise\u001b[39;00m InvalidIndexError(key)\n\u001b[0;32m-> 3798\u001b[0m     \u001b[38;5;28;01mraise\u001b[39;00m \u001b[38;5;167;01mKeyError\u001b[39;00m(key) \u001b[38;5;28;01mfrom\u001b[39;00m \u001b[38;5;21;01merr\u001b[39;00m\n\u001b[1;32m   3799\u001b[0m \u001b[38;5;28;01mexcept\u001b[39;00m \u001b[38;5;167;01mTypeError\u001b[39;00m:\n\u001b[1;32m   3800\u001b[0m     \u001b[38;5;66;03m# If we have a listlike key, _check_indexing_error will raise\u001b[39;00m\n\u001b[1;32m   3801\u001b[0m     \u001b[38;5;66;03m#  InvalidIndexError. Otherwise we fall through and re-raise\u001b[39;00m\n\u001b[1;32m   3802\u001b[0m     \u001b[38;5;66;03m#  the TypeError.\u001b[39;00m\n\u001b[1;32m   3803\u001b[0m     \u001b[38;5;28mself\u001b[39m\u001b[38;5;241m.\u001b[39m_check_indexing_error(key)\n",
      "\u001b[0;31mKeyError\u001b[0m: 'declarationType'"
     ]
    }
   ],
   "source": [
    "# Filter the DataFrame\n",
    "filtered_df = df[(df['declarationType'] == 'Major Disaster')] # & (df['ihProgramDeclared'] == True)]\n",
    "\n",
    "# Iterate over the filtered DataFrame\n",
    "for index, rec in filtered_df.iterrows():\n",
    "    print(str(rec['disasterNumber']) + ', ' + rec['disasterName'] + ', ' + rec['stateName'] + ', ' + rec['declarationDate'])"
   ]
  },
  {
   "cell_type": "code",
   "execution_count": null,
   "id": "9a45dab7-c738-4eba-a5c4-10f0aa0e2cce",
   "metadata": {},
   "outputs": [],
   "source": []
  }
 ],
 "metadata": {
  "kernelspec": {
   "display_name": "Python 3 (ipykernel)",
   "language": "python",
   "name": "python3"
  },
  "language_info": {
   "codemirror_mode": {
    "name": "ipython",
    "version": 3
   },
   "file_extension": ".py",
   "mimetype": "text/x-python",
   "name": "python",
   "nbconvert_exporter": "python",
   "pygments_lexer": "ipython3",
   "version": "3.12.2"
  }
 },
 "nbformat": 4,
 "nbformat_minor": 5
}
