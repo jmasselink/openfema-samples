{
 "cells": [
  {
   "cell_type": "markdown",
   "id": "88fd0ee2-d3c6-4d11-aa47-38b8c9a513cb",
   "metadata": {},
   "source": [
    "#### OpenFEMA API\n",
    "We will likely want to query one of these OpenFEMA endpoints\n",
    "- FEMA Web Disaster Declarations endpoint:\n",
    "https://www.fema.gov/api/open/v1/FemaWebDisasterDeclarations\n",
    "\n",
    "<b>[documentation](https://www.fema.gov/openfema-data-page/fema-web-disaster-declarations-v1)</b>\n",
    "\n",
    "- or Disaster Declaration Summaries endpoint:\n",
    "https://www.fema.gov/api/open/v2/DisasterDeclarationsSummaries  \n",
    "\n",
    "<b>[documentation](https://www.fema.gov/openfema-data-page/disaster-declarations-summaries-v2)</b>\n",
    "\n",
    "<div class=\"alert alert-block alert-warning\"><b>From the API documentation:</b><br>\n",
    "To determine which FEMA events have been authorized to receive Individual Assistance, use both <b>ihProgramDeclared</b> and <b>iaProgramDeclared</b>. \n",
    "    \n",
    "For more information see https://www.fema.gov/about/openfema/faq`\n",
    "\n",
    "For more information on the program, please visit https://www.fema.gov/assistance/individual/program.\n",
    "</div>"
   ]
  },
  {
   "cell_type": "markdown",
   "id": "82a1badb-d976-420d-b527-60aaf79a8d76",
   "metadata": {},
   "source": [
    "**Name**|**Title**|**Type**|**Description**|**Is Searchable**\n",
    "|-----|-----|-----|-----|-----|\n",
    "|ihProgramDeclared|IH Program Declared|boolean|Denotes whether the Individuals and Households program was declared for this disaster.| yes|\n",
    "|iaProgramDeclared|IA Program Declared|boolean|Denotes whether the Individual Assistance program was declared for this disaster. | yes|"
   ]
  },
  {
   "cell_type": "markdown",
   "id": "eb1fd8ad-9d3f-48ea-b11e-3c95d6e20aa9",
   "metadata": {},
   "source": [
    "## FEMA Web Disaster Declarations (v1)"
   ]
  },
  {
   "cell_type": "code",
   "execution_count": 15,
   "id": "3cbf1a7e-a126-4a55-a29c-e0d71af4a4b3",
   "metadata": {},
   "outputs": [
    {
     "name": "stdout",
     "output_type": "stream",
     "text": [
      "b'{\"metadata\": {\"skip\":0,\"filter\":\"\",\"orderby\":\"\",\"select\":null,\"rundate\":\"2024-05-17T17:02:48.995Z\",\"'\n"
     ]
    }
   ],
   "source": [
    "# declare a URL handling module\n",
    "import urllib.request\n",
    "\n",
    "# define URL for the Disaster Declarations Summaries endpoint\n",
    "baseUrl = \"https://www.fema.gov/api/open/v1/FemaWebDisasterDeclarations\"\n",
    "\n",
    "# open the URL as defined above and create a the request object \n",
    "request = urllib.request.urlopen(baseUrl)\n",
    "# actually read the data\n",
    "result = request.read()\n",
    "# printing the full result will be huge, so only show the first 100 characters of what was returned\n",
    "print(result[:100])"
   ]
  },
  {
   "cell_type": "code",
   "execution_count": 16,
   "id": "7289521b-9315-4ba0-805b-4e95e9de7239",
   "metadata": {},
   "outputs": [],
   "source": [
    "import json\n",
    "\n",
    "# transform to Python dictionary\n",
    "jsonData = json.loads(result.decode('utf-8'))"
   ]
  },
  {
   "cell_type": "code",
   "execution_count": 17,
   "id": "f42ea866-be9b-4cca-a28a-aa80cc651a00",
   "metadata": {},
   "outputs": [
    {
     "data": {
      "text/plain": [
       "dict_keys(['metadata', 'FemaWebDisasterDeclarations'])"
      ]
     },
     "execution_count": 17,
     "metadata": {},
     "output_type": "execute_result"
    }
   ],
   "source": [
    "# display the top level returned objects\n",
    "jsonData.keys()"
   ]
  },
  {
   "cell_type": "markdown",
   "id": "72bf0ccc-a377-4f70-a619-565cc222fd1c",
   "metadata": {},
   "source": [
    "### Metadata Object\n",
    "A summary of the metadata object elements can be found near the bottom of [OpenFEMA API Documentation](https://www.fema.gov/about/openfema/api). Essentially, this information summarizes the query you executed - the time it was run, filters applied, fields selected, endpoint name, etc. We can display just this object as follows:"
   ]
  },
  {
   "cell_type": "code",
   "execution_count": null,
   "id": "f4768f4d-143e-4d83-b9a8-e3d72cde9e35",
   "metadata": {},
   "outputs": [],
   "source": [
    "# display the first record in the dataset object in a pretty format\n",
    "print(json.dumps(jsonData['FemaWebDisasterDeclarations'][0], indent=2))"
   ]
  },
  {
   "cell_type": "code",
   "execution_count": null,
   "id": "58000ac3-66ce-4092-aaf0-2f8b25555b3c",
   "metadata": {},
   "outputs": [],
   "source": [
    "# use the dumps() function to display only the metadata object\n",
    "print(json.dumps(jsonData['metadata'], indent=2))"
   ]
  },
  {
   "cell_type": "code",
   "execution_count": 18,
   "id": "16d18ed5-2968-43ed-b703-4ed9b737b2d5",
   "metadata": {},
   "outputs": [
    {
     "name": "stdout",
     "output_type": "stream",
     "text": [
      "4692, EARTHQUAKE, California                    , 2023-03-08T00:00:00.000Z\n",
      "4548, EARTHQUAKE AND AFTERSHOCKS, Utah                          , 2020-07-09T00:00:00.000Z\n",
      "4473, EARTHQUAKES, Puerto Rico                   , 2020-01-16T00:00:00.000Z\n",
      "3426, EARTHQUAKES, Puerto Rico                   , 2020-01-07T00:00:00.000Z\n",
      "3415, EARTHQUAKES, California                    , 2019-07-08T00:00:00.000Z\n",
      "4413, EARTHQUAKE, Alaska                        , 2019-01-31T00:00:00.000Z\n",
      "3410, EARTHQUAKE, Alaska                        , 2018-11-30T00:00:00.000Z\n"
     ]
    }
   ],
   "source": [
    "# loop through the records and print the number, name, and location of the earthquakes\n",
    "for rec in jsonData['FemaWebDisasterDeclarations']:\n",
    "    # if rec.get('incidentType') == 'Severe Storms':#'Earthquake':\n",
    "    if rec.get('incidentType') == 'Earthquake':\n",
    "        print(str(rec['disasterNumber']) + ', ' + rec['disasterName'] + ', ' + rec['stateName'] + ', ' + rec['declarationDate'])"
   ]
  },
  {
   "cell_type": "code",
   "execution_count": 19,
   "id": "5cdd29bf-0885-431d-9713-91b8245e371c",
   "metadata": {},
   "outputs": [
    {
     "name": "stdout",
     "output_type": "stream",
     "text": [
      "1605, HURRICANE KATRINA, Alabama                       , 2005-08-29T00:00:00.000Z\n",
      "1731, WILDFIRES, FLOODING, MUD FLOWS, AND DEBRIS FLOWS, California                    , 2007-10-24T00:00:00.000Z\n",
      "1780, HURRICANE DOLLY, Texas                         , 2008-07-24T00:00:00.000Z\n",
      "1771, SEVERE STORMS AND FLOODING, Illinois                      , 2008-06-24T00:00:00.000Z\n",
      "1768, SEVERE STORMS, TORNADOES, AND FLOODING, Wisconsin                     , 2008-06-14T00:00:00.000Z\n",
      "1717, SEVERE STORMS AND FLOODING, Minnesota                     , 2007-08-23T00:00:00.000Z\n",
      "1580, SEVERE WINTER STORMS, FLOODING, AND MUDSLIDES, Ohio                          , 2005-02-15T00:00:00.000Z\n",
      "1556, SEVERE STORMS AND FLOODING, Ohio                          , 2004-09-19T00:00:00.000Z\n",
      "1453, SEVERE WINTER STORM AND RECORD/NEAR RECORD SNOW, Ohio                          , 2003-03-14T00:00:00.000Z\n",
      "1419, SEVERE STORMS, FLOODING AND TORNADOES, Minnesota                     , 2002-06-14T00:00:00.000Z\n",
      "1370, SEVERE WINTER STORMS, FLOODING, AND TORNADOES, Minnesota                     , 2001-05-16T00:00:00.000Z\n",
      "1369, FLOODING, SEVERE STORMS AND TORNADOES, Wisconsin                     , 2001-05-11T00:00:00.000Z\n",
      "1702, SEVERE STORMS, TORNADOES, AND FLOODING, South Dakota                  , 2007-05-22T00:00:00.000Z\n",
      "1628, SEVERE STORMS, FLOODING, MUDSLIDES, AND LANDSLIDES, California                    , 2006-02-03T00:00:00.000Z\n",
      "1577, SEVERE STORMS, FLOODING, DEBRIS FLOWS, AND MUDSLIDES, California                    , 2005-02-04T00:00:00.000Z\n",
      "1498, WILDFIRES, FLOODING, MUDFLOW AND DEBRIS FLOW DIRECTLY RELATED T , California                    , 2003-10-27T00:00:00.000Z\n",
      "1446, SUPER TYPHOON PONGSONA, Guam                          , 2002-12-08T00:00:00.000Z\n",
      "1426, TYPHOON CHATA'AN, Guam                          , 2002-07-06T00:00:00.000Z\n",
      "1334, SEVERE STORMS, FLOODING AND GROUND SATURATION, North Dakota                  , 2000-06-27T00:00:00.000Z\n",
      "1279, SEVERE STORMS, FLOODING, SNOW, ICE, GROUND SATURATION, LANSLIDES, MUDSLIDES, AND TOR, North Dakota                  , 1999-06-08T00:00:00.000Z\n",
      "1511, TYPHOON SUDAL, Federated States of Micronesia, 2004-04-10T00:00:00.000Z\n",
      "1427, TS CHATA'AN, INC FLOODING, MUDSLIDES AND LANDSLIDES, Federated States of Micronesia, 2002-07-11T00:00:00.000Z\n",
      "3093, DROUGHT, Federated States of Micronesia, 1992-05-20T00:00:00.000Z\n",
      "926, TYPHOON YURI, Federated States of Micronesia, 1991-12-10T00:00:00.000Z\n",
      "892, TYPHOON RUSS, Federated States of Micronesia, 1991-01-17T00:00:00.000Z\n",
      "886, TYPHOON OWEN, Federated States of Micronesia, 1990-12-14T00:00:00.000Z\n",
      "803, TYPHOON NINA, Federated States of Micronesia, 1987-11-25T00:00:00.000Z\n",
      "786, TYPHOON ORCHID, Federated States of Micronesia, 1987-02-02T00:00:00.000Z\n",
      "765, TYPHOON LOLA, Federated States of Micronesia, 1986-06-03T00:00:00.000Z\n",
      "611, SEAWAVE ACTION & FLOODING, Federated States of Micronesia, 1979-12-01T00:00:00.000Z\n",
      "506, TYPHOON PAMELA, Federated States of Micronesia, 1976-06-08T00:00:00.000Z\n",
      "502, TYPHOON MARIE, Federated States of Micronesia, 1976-04-22T00:00:00.000Z\n",
      "235, TYPHOON JEAN, Federated States of Micronesia, 1968-04-18T00:00:00.000Z\n",
      "225, TYPHOON SALLY, Federated States of Micronesia, 1967-03-21T00:00:00.000Z\n",
      "181, TYPHOON LOUISE, Federated States of Micronesia, 1964-12-10T00:00:00.000Z\n",
      "154, TYPHOON OLIVE, Federated States of Micronesia, 1963-04-30T00:00:00.000Z\n"
     ]
    }
   ],
   "source": [
    "for rec in jsonData['FemaWebDisasterDeclarations']:\n",
    "    #if rec.get('declarationType') == 'Major Disaster' and rec.get('ihProgramDeclared')==True and rec.get('iaProgramDeclared')==True:\n",
    "    #if rec.get('declarationType') == 'Major Disaster' and rec.get('iaProgramDeclared')==True:\n",
    "    if rec.get('iaProgramDeclared')==True:      \n",
    "        print(str(rec['disasterNumber']) + ', ' + rec['disasterName'] + ', ' + rec['stateName'] + ', ' + rec['declarationDate'])"
   ]
  },
  {
   "cell_type": "markdown",
   "id": "5b4ef158-cf3c-4bcd-9482-3358749137bc",
   "metadata": {},
   "source": [
    "### Dataset Object - FemaWebDisasterDeclarations\n",
    "Unlike the metadata object, the dataset object is an array of json objects - each of which represents a record in the dataset. We can display one of the objects as follows where the object name is the dataset name and the second dimension of the dictionary is an index representing the record we want. See the data dictionary on the dataset specific webpage (https://www.fema.gov/openfema-data-page/fema-web-disaster-declarations-v1) for field descriptions, data types, and more."
   ]
  },
  {
   "cell_type": "markdown",
   "id": "55265c27-2aa3-4e33-9416-ec9c72c27259",
   "metadata": {},
   "source": [
    "## Disaster Declarations Summaries (v2)"
   ]
  },
  {
   "cell_type": "code",
   "execution_count": 20,
   "id": "0abf9b15-b158-4cd7-b3d8-c8615b6044e5",
   "metadata": {},
   "outputs": [
    {
     "name": "stdout",
     "output_type": "stream",
     "text": [
      "b'{\"metadata\": {\"skip\":0,\"filter\":\"\",\"orderby\":\"\",\"select\":null,\"rundate\":\"2024-05-17T17:02:07.643Z\",\"'\n"
     ]
    }
   ],
   "source": [
    "import urllib.request\n",
    "baseUrl = \"https://www.fema.gov/api/open/v2/DisasterDeclarationsSummaries\"\n",
    "\n",
    "# define our parameters\n",
    "parameters = \"?$inlinecount=allpages\"\n",
    "request = urllib.request.urlopen(baseUrl + parameters)\n",
    "result = request.read()\n",
    "print(result[:100])"
   ]
  },
  {
   "cell_type": "code",
   "execution_count": 21,
   "id": "8df08d2c-3871-41fc-8378-87f154f1fde7",
   "metadata": {},
   "outputs": [],
   "source": [
    "import json\n",
    "\n",
    "# transform to Python dictionary\n",
    "jsonData = json.loads(result.decode('utf-8'))"
   ]
  },
  {
   "cell_type": "code",
   "execution_count": 22,
   "id": "8fa9ced7-17da-428f-85c9-b8f69928bf79",
   "metadata": {},
   "outputs": [
    {
     "data": {
      "text/plain": [
       "dict_keys(['metadata', 'DisasterDeclarationsSummaries'])"
      ]
     },
     "execution_count": 22,
     "metadata": {},
     "output_type": "execute_result"
    }
   ],
   "source": [
    "# display the top level returned objects\n",
    "jsonData.keys()"
   ]
  },
  {
   "cell_type": "code",
   "execution_count": 23,
   "id": "f9d0a3e3-62b8-413e-b90b-1581c90efeda",
   "metadata": {},
   "outputs": [
    {
     "name": "stdout",
     "output_type": "stream",
     "text": [
      "65161\n"
     ]
    }
   ],
   "source": [
    "print(json.dumps(jsonData['metadata']['count'], indent=2))"
   ]
  },
  {
   "cell_type": "code",
   "execution_count": 24,
   "id": "3a8d2c9e-02e5-449e-be32-cc505888327f",
   "metadata": {},
   "outputs": [
    {
     "name": "stdout",
     "output_type": "stream",
     "text": [
      "{\n",
      "  \"femaDeclarationString\": \"FM-5464-RI\",\n",
      "  \"disasterNumber\": 5464,\n",
      "  \"state\": \"RI\",\n",
      "  \"declarationType\": \"FM\",\n",
      "  \"declarationDate\": \"2023-04-14T00:00:00.000Z\",\n",
      "  \"fyDeclared\": 2023,\n",
      "  \"incidentType\": \"Fire\",\n",
      "  \"declarationTitle\": \"QUEENS RIVER FIRE\",\n",
      "  \"ihProgramDeclared\": false,\n",
      "  \"iaProgramDeclared\": false,\n",
      "  \"paProgramDeclared\": true,\n",
      "  \"hmProgramDeclared\": true,\n",
      "  \"incidentBeginDate\": \"2023-04-14T00:00:00.000Z\",\n",
      "  \"incidentEndDate\": \"2023-04-16T00:00:00.000Z\",\n",
      "  \"disasterCloseoutDate\": null,\n",
      "  \"tribalRequest\": false,\n",
      "  \"fipsStateCode\": \"44\",\n",
      "  \"fipsCountyCode\": \"009\",\n",
      "  \"placeCode\": \"99009\",\n",
      "  \"designatedArea\": \"Washington (County)(in (P)MSA 5520,6480)\",\n",
      "  \"declarationRequestNumber\": \"23042\",\n",
      "  \"lastIAFilingDate\": null,\n",
      "  \"lastRefresh\": \"2023-05-22T03:41:22.800Z\",\n",
      "  \"hash\": \"1111d4d4a33f8a6e4d383ac5bd0e60b9bf142da0\",\n",
      "  \"id\": \"9b9a9d9c-8b03-4049-9b16-a3c0d581556c\"\n",
      "}\n"
     ]
    }
   ],
   "source": [
    "# use the dumps() function to display only the metadata object\n",
    "print(json.dumps(jsonData['DisasterDeclarationsSummaries'][0], indent=2))"
   ]
  },
  {
   "cell_type": "code",
   "execution_count": 25,
   "id": "93fe9ef2-163c-42f2-b466-f8be802fa9a0",
   "metadata": {},
   "outputs": [
    {
     "name": "stdout",
     "output_type": "stream",
     "text": [
      "4692, CA, EARTHQUAKE, 2023-03-08T00:00:00.000Z\n"
     ]
    }
   ],
   "source": [
    "# loop through the records and print the number, name, and location of the earthquakes\n",
    "for rec in jsonData['DisasterDeclarationsSummaries']:\n",
    "    if rec.get('incidentType') == 'Earthquake':\n",
    "        print(str(rec['disasterNumber']) + ', ' + rec['state'] + ', ' + rec['declarationTitle'] +', ' + rec['declarationDate'])"
   ]
  },
  {
   "cell_type": "code",
   "execution_count": 28,
   "id": "f20606bc-5214-449a-8917-ce135e1a42c3",
   "metadata": {},
   "outputs": [
    {
     "ename": "JSONDecodeError",
     "evalue": "Expecting value: line 1 column 1 (char 0)",
     "output_type": "error",
     "traceback": [
      "\u001b[0;31m---------------------------------------------------------------------------\u001b[0m",
      "\u001b[0;31mJSONDecodeError\u001b[0m                           Traceback (most recent call last)",
      "Cell \u001b[0;32mIn[28], line 7\u001b[0m\n\u001b[1;32m      4\u001b[0m result \u001b[38;5;241m=\u001b[39m request\u001b[38;5;241m.\u001b[39mread()\n\u001b[1;32m      6\u001b[0m \u001b[38;5;66;03m# transform to Python dictionary\u001b[39;00m\n\u001b[0;32m----> 7\u001b[0m jsonData \u001b[38;5;241m=\u001b[39m \u001b[43mjson\u001b[49m\u001b[38;5;241;43m.\u001b[39;49m\u001b[43mloads\u001b[49m\u001b[43m(\u001b[49m\u001b[43mresult\u001b[49m\u001b[38;5;241;43m.\u001b[39;49m\u001b[43mdecode\u001b[49m\u001b[43m(\u001b[49m\u001b[38;5;124;43m'\u001b[39;49m\u001b[38;5;124;43mutf-8\u001b[39;49m\u001b[38;5;124;43m'\u001b[39;49m\u001b[43m)\u001b[49m\u001b[43m)\u001b[49m\n\u001b[1;32m      9\u001b[0m \u001b[38;5;66;03m# display the metadata object, followed by a count of records returned\u001b[39;00m\n\u001b[1;32m     10\u001b[0m \u001b[38;5;28mprint\u001b[39m(json\u001b[38;5;241m.\u001b[39mdumps(jsonData[\u001b[38;5;124m'\u001b[39m\u001b[38;5;124mmetadata\u001b[39m\u001b[38;5;124m'\u001b[39m], indent\u001b[38;5;241m=\u001b[39m\u001b[38;5;241m2\u001b[39m))\n",
      "File \u001b[0;32m~/.python/current/lib/python3.10/json/__init__.py:346\u001b[0m, in \u001b[0;36mloads\u001b[0;34m(s, cls, object_hook, parse_float, parse_int, parse_constant, object_pairs_hook, **kw)\u001b[0m\n\u001b[1;32m    341\u001b[0m     s \u001b[38;5;241m=\u001b[39m s\u001b[38;5;241m.\u001b[39mdecode(detect_encoding(s), \u001b[38;5;124m'\u001b[39m\u001b[38;5;124msurrogatepass\u001b[39m\u001b[38;5;124m'\u001b[39m)\n\u001b[1;32m    343\u001b[0m \u001b[38;5;28;01mif\u001b[39;00m (\u001b[38;5;28mcls\u001b[39m \u001b[38;5;129;01mis\u001b[39;00m \u001b[38;5;28;01mNone\u001b[39;00m \u001b[38;5;129;01mand\u001b[39;00m object_hook \u001b[38;5;129;01mis\u001b[39;00m \u001b[38;5;28;01mNone\u001b[39;00m \u001b[38;5;129;01mand\u001b[39;00m\n\u001b[1;32m    344\u001b[0m         parse_int \u001b[38;5;129;01mis\u001b[39;00m \u001b[38;5;28;01mNone\u001b[39;00m \u001b[38;5;129;01mand\u001b[39;00m parse_float \u001b[38;5;129;01mis\u001b[39;00m \u001b[38;5;28;01mNone\u001b[39;00m \u001b[38;5;129;01mand\u001b[39;00m\n\u001b[1;32m    345\u001b[0m         parse_constant \u001b[38;5;129;01mis\u001b[39;00m \u001b[38;5;28;01mNone\u001b[39;00m \u001b[38;5;129;01mand\u001b[39;00m object_pairs_hook \u001b[38;5;129;01mis\u001b[39;00m \u001b[38;5;28;01mNone\u001b[39;00m \u001b[38;5;129;01mand\u001b[39;00m \u001b[38;5;129;01mnot\u001b[39;00m kw):\n\u001b[0;32m--> 346\u001b[0m     \u001b[38;5;28;01mreturn\u001b[39;00m \u001b[43m_default_decoder\u001b[49m\u001b[38;5;241;43m.\u001b[39;49m\u001b[43mdecode\u001b[49m\u001b[43m(\u001b[49m\u001b[43ms\u001b[49m\u001b[43m)\u001b[49m\n\u001b[1;32m    347\u001b[0m \u001b[38;5;28;01mif\u001b[39;00m \u001b[38;5;28mcls\u001b[39m \u001b[38;5;129;01mis\u001b[39;00m \u001b[38;5;28;01mNone\u001b[39;00m:\n\u001b[1;32m    348\u001b[0m     \u001b[38;5;28mcls\u001b[39m \u001b[38;5;241m=\u001b[39m JSONDecoder\n",
      "File \u001b[0;32m~/.python/current/lib/python3.10/json/decoder.py:337\u001b[0m, in \u001b[0;36mJSONDecoder.decode\u001b[0;34m(self, s, _w)\u001b[0m\n\u001b[1;32m    332\u001b[0m \u001b[38;5;28;01mdef\u001b[39;00m \u001b[38;5;21mdecode\u001b[39m(\u001b[38;5;28mself\u001b[39m, s, _w\u001b[38;5;241m=\u001b[39mWHITESPACE\u001b[38;5;241m.\u001b[39mmatch):\n\u001b[1;32m    333\u001b[0m \u001b[38;5;250m    \u001b[39m\u001b[38;5;124;03m\"\"\"Return the Python representation of ``s`` (a ``str`` instance\u001b[39;00m\n\u001b[1;32m    334\u001b[0m \u001b[38;5;124;03m    containing a JSON document).\u001b[39;00m\n\u001b[1;32m    335\u001b[0m \n\u001b[1;32m    336\u001b[0m \u001b[38;5;124;03m    \"\"\"\u001b[39;00m\n\u001b[0;32m--> 337\u001b[0m     obj, end \u001b[38;5;241m=\u001b[39m \u001b[38;5;28;43mself\u001b[39;49m\u001b[38;5;241;43m.\u001b[39;49m\u001b[43mraw_decode\u001b[49m\u001b[43m(\u001b[49m\u001b[43ms\u001b[49m\u001b[43m,\u001b[49m\u001b[43m \u001b[49m\u001b[43midx\u001b[49m\u001b[38;5;241;43m=\u001b[39;49m\u001b[43m_w\u001b[49m\u001b[43m(\u001b[49m\u001b[43ms\u001b[49m\u001b[43m,\u001b[49m\u001b[43m \u001b[49m\u001b[38;5;241;43m0\u001b[39;49m\u001b[43m)\u001b[49m\u001b[38;5;241;43m.\u001b[39;49m\u001b[43mend\u001b[49m\u001b[43m(\u001b[49m\u001b[43m)\u001b[49m\u001b[43m)\u001b[49m\n\u001b[1;32m    338\u001b[0m     end \u001b[38;5;241m=\u001b[39m _w(s, end)\u001b[38;5;241m.\u001b[39mend()\n\u001b[1;32m    339\u001b[0m     \u001b[38;5;28;01mif\u001b[39;00m end \u001b[38;5;241m!=\u001b[39m \u001b[38;5;28mlen\u001b[39m(s):\n",
      "File \u001b[0;32m~/.python/current/lib/python3.10/json/decoder.py:355\u001b[0m, in \u001b[0;36mJSONDecoder.raw_decode\u001b[0;34m(self, s, idx)\u001b[0m\n\u001b[1;32m    353\u001b[0m     obj, end \u001b[38;5;241m=\u001b[39m \u001b[38;5;28mself\u001b[39m\u001b[38;5;241m.\u001b[39mscan_once(s, idx)\n\u001b[1;32m    354\u001b[0m \u001b[38;5;28;01mexcept\u001b[39;00m \u001b[38;5;167;01mStopIteration\u001b[39;00m \u001b[38;5;28;01mas\u001b[39;00m err:\n\u001b[0;32m--> 355\u001b[0m     \u001b[38;5;28;01mraise\u001b[39;00m JSONDecodeError(\u001b[38;5;124m\"\u001b[39m\u001b[38;5;124mExpecting value\u001b[39m\u001b[38;5;124m\"\u001b[39m, s, err\u001b[38;5;241m.\u001b[39mvalue) \u001b[38;5;28;01mfrom\u001b[39;00m \u001b[38;5;28;01mNone\u001b[39;00m\n\u001b[1;32m    356\u001b[0m \u001b[38;5;28;01mreturn\u001b[39;00m obj, end\n",
      "\u001b[0;31mJSONDecodeError\u001b[0m: Expecting value: line 1 column 1 (char 0)"
     ]
    }
   ],
   "source": [
    "# query the length of individual declarations since 2024-01-01\n",
    "# define our parameters\n",
    "# actually read the data\n",
    "result = request.read()\n",
    "\n",
    "# transform to Python dictionary\n",
    "jsonData = json.loads(result.decode('utf-8'))\n",
    "\n",
    "# display the metadata object, followed by a count of records returned\n",
    "print(json.dumps(jsonData['metadata'], indent=2))\n",
    "# len(jsonData['DisasterDeclarationsSummaries'])"
   ]
  },
  {
   "cell_type": "code",
   "execution_count": 30,
   "id": "5c3f9011-b3a2-4aa0-b9a1-4a0195934830",
   "metadata": {},
   "outputs": [
    {
     "name": "stdout",
     "output_type": "stream",
     "text": [
      "disasterNumber,declarationDate,declarationType,declarationTitle,state,fipsStateCode,fipsCountyCode,designatedArea\n",
      "4780,2024-05-15T00:00:00.000Z,DR,SEVERE STORMS AND FLOODING,MA,25,005,\"Bristol (County)(in (P)MSA 1120,1200,2480,5400,6060)\"\n",
      "4780,2024-05-15T00:00:00.000Z,DR,SEVERE STORMS AND FLOODING,MA,25,027,\"Worcester (County) (in (P)MSA 1120,2600,9240)\"\n",
      "4779,2024-05-14T00:00:00.000Z,DR,SEVERE STORMS AND TORNADOES,IA,19,085,Harrison (County)\n",
      "4779,2024-05-14T00:00:00.000Z,DR,SEVERE STORMS AND TORNADOES,IA,19,175,Union (County)\n",
      "4779,2024-05-14T00:00:00.000Z,DR,SEVERE STORMS AND TORNADOES,IA,19,165,Shelby (County)\n",
      "4779,2024-05-14T00:00:00.000Z,DR,SEVERE STORMS AND TORNADOES,IA,19,159,Ringgold (County)\n",
      "4779,2024-05-14T00:00:00.000Z,DR,SEVERE STORMS AND TORNADOES,IA,19,155,Pottawattamie (County)\n",
      "4779,2024-05-14T00:00:00.000Z,DR,SEVERE STORMS AND TORNADOES,IA,19,129,Mills (County)\n",
      "4779,2024-05-14T00:00:00.000Z,DR,SEVERE STORMS AND TORNADOES,IA,19,153,Polk (County)\n",
      "4779,2024-05-14T00:00:00.000Z,DR,SEVERE STORMS AND TORNADOES,IA,19,039,Clarke (County)\n",
      "4778,2024-05-03T00:00:00.000Z,DR,\"SEVERE STORMS, STRAIGHT-LINE WINDS, AND TORNADOES\",NE,31,055,Douglas (County)\n",
      "4778,2024-05-03T00:00:00.000Z,DR,\"SEVERE STORMS, STRAIGHT-LINE WINDS, AND TORNADOES\",NE,31,177,Washington (County)\n",
      "4777,2024-05-02T00:00:00.000Z,DR,TORNADOES,OH,39,107,Mercer (County)\n",
      "4777,2024-05-02T00:00:00.000Z,DR,TORNADOES,OH,39,091,Logan (County)\n",
      "4777,2024-05-02T00:00:00.000Z,DR,TORNADOES,OH,39,089,Licking (County)\n",
      "4777,2024-05-02T00:00:00.000Z,DR,TORNADOES,OH,39,063,Hancock (County)\n",
      "4777,2024-05-02T00:00:00.000Z,DR,TORNADOES,OH,39,041,Delaware (County)\n",
      "4777,2024-05-02T00:00:00.000Z,DR,TORNADOES,OH,39,037,Darke (County)\n",
      "4777,2024-05-02T00:00:00.000Z,DR,TORNADOES,OH,39,033,Crawford (County)\n",
      "4777,2024-05-02T00:00:00.000Z,DR,TORNADOES,OH,39,011,Auglaize (County)\n",
      "4777,2024-05-02T00:00:00.000Z,DR,TORNADOES,OH,39,159,Union (County)\n",
      "4777,2024-05-02T00:00:00.000Z,DR,TORNADOES,OH,39,139,Richland (County)\n",
      "4777,2024-05-02T00:00:00.000Z,DR,TORNADOES,OH,39,109,Miami (County)\n",
      "4776,2024-04-30T00:00:00.000Z,DR,\"SEVERE STORMS, STRAIGHT-LINE WINDS, TORNADOES, AND FLOODING\",OK,40,033,Cotton (County)\n",
      "4776,2024-04-30T00:00:00.000Z,DR,\"SEVERE STORMS, STRAIGHT-LINE WINDS, TORNADOES, AND FLOODING\",OK,40,149,Washita (County)\n",
      "4776,2024-04-30T00:00:00.000Z,DR,\"SEVERE STORMS, STRAIGHT-LINE WINDS, TORNADOES, AND FLOODING\",OK,40,113,Osage (County)\n",
      "4776,2024-04-30T00:00:00.000Z,DR,\"SEVERE STORMS, STRAIGHT-LINE WINDS, TORNADOES, AND FLOODING\",OK,40,111,Okmulgee (County)\n",
      "4776,2024-04-30T00:00:00.000Z,DR,\"SEVERE STORMS, STRAIGHT-LINE WINDS, TORNADOES, AND FLOODING\",OK,40,099,Murray (County)\n",
      "4776,2024-04-30T00:00:00.000Z,DR,\"SEVERE STORMS, STRAIGHT-LINE WINDS, TORNADOES, AND FLOODING\",OK,40,085,Love (County)\n",
      "4776,2024-04-30T00:00:00.000Z,DR,\"SEVERE STORMS, STRAIGHT-LINE WINDS, TORNADOES, AND FLOODING\",OK,40,063,Hughes (County)\n",
      "4776,2024-04-30T00:00:00.000Z,DR,\"SEVERE STORMS, STRAIGHT-LINE WINDS, TORNADOES, AND FLOODING\",OK,40,123,Pontotoc (County)\n",
      "4776,2024-04-30T00:00:00.000Z,DR,\"SEVERE STORMS, STRAIGHT-LINE WINDS, TORNADOES, AND FLOODING\",OK,40,019,Carter (County)\n",
      "4775,2024-04-28T00:00:00.000Z,DR,\"SEVERE WINTER STORMS, STRAIGHT-LINE WINDS, FLOODING, LANDSLIDES, AND MUDSLIDES\",WA,53,019,Ferry (County)\n",
      "4774,2024-04-28T00:00:00.000Z,DR,SEVERE WINTER STORM,KS,20,015,Butler (County)\n",
      "4774,2024-04-28T00:00:00.000Z,DR,SEVERE WINTER STORM,KS,20,017,Chase (County)\n",
      "4774,2024-04-28T00:00:00.000Z,DR,SEVERE WINTER STORM,KS,20,029,Cloud (County)\n",
      "4774,2024-04-28T00:00:00.000Z,DR,SEVERE WINTER STORM,KS,20,047,Edwards (County)\n",
      "4774,2024-04-28T00:00:00.000Z,DR,SEVERE WINTER STORM,KS,20,057,Ford (County)\n",
      "4774,2024-04-28T00:00:00.000Z,DR,SEVERE WINTER STORM,KS,20,061,Geary (County)\n",
      "4774,2024-04-28T00:00:00.000Z,DR,SEVERE WINTER STORM,KS,20,069,Gray (County)\n",
      "4774,2024-04-28T00:00:00.000Z,DR,SEVERE WINTER STORM,KS,20,083,Hodgeman (County)\n",
      "4774,2024-04-28T00:00:00.000Z,DR,SEVERE WINTER STORM,KS,20,127,Morris (County)\n",
      "4774,2024-04-28T00:00:00.000Z,DR,SEVERE WINTER STORM,KS,20,139,Osage (County)\n",
      "4774,2024-04-28T00:00:00.000Z,DR,SEVERE WINTER STORM,KS,20,143,Ottawa (County)\n",
      "4774,2024-04-28T00:00:00.000Z,DR,SEVERE WINTER STORM,KS,20,145,Pawnee (County)\n",
      "4774,2024-04-28T00:00:00.000Z,DR,SEVERE WINTER STORM,KS,20,177,Shawnee (County)\n",
      "4774,2024-04-28T00:00:00.000Z,DR,SEVERE WINTER STORM,KS,20,185,Stafford (County)\n",
      "4774,2024-04-28T00:00:00.000Z,DR,SEVERE WINTER STORM,KS,20,195,Trego (County)\n",
      "4774,2024-04-28T00:00:00.000Z,DR,SEVERE WINTER STORM,KS,20,197,Wabaunsee (County)\n",
      "4775,2024-04-28T00:00:00.000Z,DR,\"SEVERE WINTER STORMS, STRAIGHT-LINE WINDS, FLOODING, LANDSLIDES, AND MUDSLIDES\",WA,53,000,Colville Indian Reservation\n",
      "4775,2024-04-28T00:00:00.000Z,DR,\"SEVERE WINTER STORMS, STRAIGHT-LINE WINDS, FLOODING, LANDSLIDES, AND MUDSLIDES\",WA,53,009,Clallam (County)\n",
      "4775,2024-04-28T00:00:00.000Z,DR,\"SEVERE WINTER STORMS, STRAIGHT-LINE WINDS, FLOODING, LANDSLIDES, AND MUDSLIDES\",WA,53,011,Clark (County)\n",
      "4775,2024-04-28T00:00:00.000Z,DR,\"SEVERE WINTER STORMS, STRAIGHT-LINE WINDS, FLOODING, LANDSLIDES, AND MUDSLIDES\",WA,53,015,Cowlitz (County)\n",
      "4775,2024-04-28T00:00:00.000Z,DR,\"SEVERE WINTER STORMS, STRAIGHT-LINE WINDS, FLOODING, LANDSLIDES, AND MUDSLIDES\",WA,53,027,Grays Harbor (County)\n",
      "4775,2024-04-28T00:00:00.000Z,DR,\"SEVERE WINTER STORMS, STRAIGHT-LINE WINDS, FLOODING, LANDSLIDES, AND MUDSLIDES\",WA,53,029,Island (County)\n",
      "4775,2024-04-28T00:00:00.000Z,DR,\"SEVERE WINTER STORMS, STRAIGHT-LINE WINDS, FLOODING, LANDSLIDES, AND MUDSLIDES\",WA,53,031,Jefferson (County)\n",
      "4775,2024-04-28T00:00:00.000Z,DR,\"SEVERE WINTER STORMS, STRAIGHT-LINE WINDS, FLOODING, LANDSLIDES, AND MUDSLIDES\",WA,53,033,King (County)\n",
      "4775,2024-04-28T00:00:00.000Z,DR,\"SEVERE WINTER STORMS, STRAIGHT-LINE WINDS, FLOODING, LANDSLIDES, AND MUDSLIDES\",WA,53,039,Klickitat (County)\n",
      "4775,2024-04-28T00:00:00.000Z,DR,\"SEVERE WINTER STORMS, STRAIGHT-LINE WINDS, FLOODING, LANDSLIDES, AND MUDSLIDES\",WA,53,041,Lewis (County)\n",
      "4775,2024-04-28T00:00:00.000Z,DR,\"SEVERE WINTER STORMS, STRAIGHT-LINE WINDS, FLOODING, LANDSLIDES, AND MUDSLIDES\",WA,53,045,Mason (County)\n",
      "4775,2024-04-28T00:00:00.000Z,DR,\"SEVERE WINTER STORMS, STRAIGHT-LINE WINDS, FLOODING, LANDSLIDES, AND MUDSLIDES\",WA,53,047,Okanogan (County)\n",
      "4775,2024-04-28T00:00:00.000Z,DR,\"SEVERE WINTER STORMS, STRAIGHT-LINE WINDS, FLOODING, LANDSLIDES, AND MUDSLIDES\",WA,53,049,Pacific (County)\n",
      "4775,2024-04-28T00:00:00.000Z,DR,\"SEVERE WINTER STORMS, STRAIGHT-LINE WINDS, FLOODING, LANDSLIDES, AND MUDSLIDES\",WA,53,057,Skagit (County)\n",
      "4775,2024-04-28T00:00:00.000Z,DR,\"SEVERE WINTER STORMS, STRAIGHT-LINE WINDS, FLOODING, LANDSLIDES, AND MUDSLIDES\",WA,53,059,Skamania (County)\n",
      "4775,2024-04-28T00:00:00.000Z,DR,\"SEVERE WINTER STORMS, STRAIGHT-LINE WINDS, FLOODING, LANDSLIDES, AND MUDSLIDES\",WA,53,069,Wahkiakum (County)\n",
      "4772,2024-04-19T00:00:00.000Z,DR,SEVERE STORMS AND FLOODING,CA,06,000,Morongo Indian Reservation\n",
      "4770,2024-04-19T00:00:00.000Z,DR,SEVERE WINTER STORM,VT,50,007,Chittenden (County)\n",
      "4770,2024-04-19T00:00:00.000Z,DR,SEVERE WINTER STORM,VT,50,019,Orleans (County)\n",
      "4773,2024-04-19T00:00:00.000Z,DR,SEVERE WINTER STORM,CA,06,000,Hoopa Valley Indian Reservation\n",
      "4771,2024-04-19T00:00:00.000Z,DR,SEVERE STORMS AND FLOODING,NH,33,015,\"Rockingham (County)(in (P)MSA 4160,4760,6450)\"\n",
      "4771,2024-04-19T00:00:00.000Z,DR,SEVERE STORMS AND FLOODING,NH,33,009,Grafton (County)\n",
      "4770,2024-04-19T00:00:00.000Z,DR,SEVERE WINTER STORM,VT,50,015,Lamoille (County)\n",
      "4770,2024-04-19T00:00:00.000Z,DR,SEVERE WINTER STORM,VT,50,011,Franklin (County)\n",
      "4770,2024-04-19T00:00:00.000Z,DR,SEVERE WINTER STORM,VT,50,009,Essex (County)\n",
      "4768,2024-04-13T00:00:00.000Z,DR,\"SEVERE WINTER STORMS, STRAIGHT-LINE WINDS, LANDSLIDES, AND MUDSLIDES\",OR,41,003,Benton (County)\n",
      "4768,2024-04-13T00:00:00.000Z,DR,\"SEVERE WINTER STORMS, STRAIGHT-LINE WINDS, LANDSLIDES, AND MUDSLIDES\",OR,41,000,Siletz Indian Reservation\n",
      "4768,2024-04-13T00:00:00.000Z,DR,\"SEVERE WINTER STORMS, STRAIGHT-LINE WINDS, LANDSLIDES, AND MUDSLIDES\",OR,41,057,Tillamook (County)\n",
      "4768,2024-04-13T00:00:00.000Z,DR,\"SEVERE WINTER STORMS, STRAIGHT-LINE WINDS, LANDSLIDES, AND MUDSLIDES\",OR,41,065,Wasco (County)\n",
      "4769,2024-04-13T00:00:00.000Z,DR,\"SEVERE WINTER STORMS, TORNADOES, FLOODING, LANDSLIDES, AND MUDSLIDES\",CA,06,007,Butte (County)\n",
      "4768,2024-04-13T00:00:00.000Z,DR,\"SEVERE WINTER STORMS, STRAIGHT-LINE WINDS, LANDSLIDES, AND MUDSLIDES\",OR,41,055,Sherman (County)\n",
      "4768,2024-04-13T00:00:00.000Z,DR,\"SEVERE WINTER STORMS, STRAIGHT-LINE WINDS, LANDSLIDES, AND MUDSLIDES\",OR,41,051,Multnomah (County)\n",
      "4768,2024-04-13T00:00:00.000Z,DR,\"SEVERE WINTER STORMS, STRAIGHT-LINE WINDS, LANDSLIDES, AND MUDSLIDES\",OR,41,043,Linn (County)\n",
      "4768,2024-04-13T00:00:00.000Z,DR,\"SEVERE WINTER STORMS, STRAIGHT-LINE WINDS, LANDSLIDES, AND MUDSLIDES\",OR,41,041,Lincoln (County)\n",
      "4768,2024-04-13T00:00:00.000Z,DR,\"SEVERE WINTER STORMS, STRAIGHT-LINE WINDS, LANDSLIDES, AND MUDSLIDES\",OR,41,039,Lane (County)\n",
      "4768,2024-04-13T00:00:00.000Z,DR,\"SEVERE WINTER STORMS, STRAIGHT-LINE WINDS, LANDSLIDES, AND MUDSLIDES\",OR,41,027,Hood River (County)\n",
      "4768,2024-04-13T00:00:00.000Z,DR,\"SEVERE WINTER STORMS, STRAIGHT-LINE WINDS, LANDSLIDES, AND MUDSLIDES\",OR,41,011,Coos (County)\n",
      "4768,2024-04-13T00:00:00.000Z,DR,\"SEVERE WINTER STORMS, STRAIGHT-LINE WINDS, LANDSLIDES, AND MUDSLIDES\",OR,41,005,Clackamas (County)\n",
      "4769,2024-04-13T00:00:00.000Z,DR,\"SEVERE WINTER STORMS, TORNADOES, FLOODING, LANDSLIDES, AND MUDSLIDES\",CA,06,053,Monterey (County)\n",
      "4769,2024-04-13T00:00:00.000Z,DR,\"SEVERE WINTER STORMS, TORNADOES, FLOODING, LANDSLIDES, AND MUDSLIDES\",CA,06,037,Los Angeles (County)\n",
      "4769,2024-04-13T00:00:00.000Z,DR,\"SEVERE WINTER STORMS, TORNADOES, FLOODING, LANDSLIDES, AND MUDSLIDES\",CA,06,021,Glenn (County)\n",
      "4769,2024-04-13T00:00:00.000Z,DR,\"SEVERE WINTER STORMS, TORNADOES, FLOODING, LANDSLIDES, AND MUDSLIDES\",CA,06,111,Ventura (County)\n",
      "4769,2024-04-13T00:00:00.000Z,DR,\"SEVERE WINTER STORMS, TORNADOES, FLOODING, LANDSLIDES, AND MUDSLIDES\",CA,06,101,Sutter (County)\n",
      "4769,2024-04-13T00:00:00.000Z,DR,\"SEVERE WINTER STORMS, TORNADOES, FLOODING, LANDSLIDES, AND MUDSLIDES\",CA,06,087,Santa Cruz (County)\n",
      "4769,2024-04-13T00:00:00.000Z,DR,\"SEVERE WINTER STORMS, TORNADOES, FLOODING, LANDSLIDES, AND MUDSLIDES\",CA,06,083,Santa Barbara (County)\n",
      "4769,2024-04-13T00:00:00.000Z,DR,\"SEVERE WINTER STORMS, TORNADOES, FLOODING, LANDSLIDES, AND MUDSLIDES\",CA,06,079,San Luis Obispo (County)\n",
      "4767,2024-04-06T00:00:00.000Z,DR,\"SEVERE STORM, FLOODING, AND LANDSLIDES\",AK,02,198,Prince of Wales-Hyder (Census Area)\n",
      "4767,2024-04-06T00:00:00.000Z,DR,\"SEVERE STORM, FLOODING, AND LANDSLIDES\",AK,02,201,Southeast Islands Regional Educational Attendance Ar\n",
      "4767,2024-04-06T00:00:00.000Z,DR,\"SEVERE STORM, FLOODING, AND LANDSLIDES\",AK,02,275,Wrangell (City and Borough)\n",
      "4764,2024-03-20T00:00:00.000Z,DR,SEVERE STORMS AND FLOODING,ME,23,029,Washington (County)\n",
      "4766,2024-03-20T00:00:00.000Z,DR,SEVERE STORMS AND FLOODING,RI,44,005,\"Newport (County)(in PMSA 2480,6480)\"\n",
      "4766,2024-03-20T00:00:00.000Z,DR,SEVERE STORMS AND FLOODING,RI,44,003,Kent (County)\n",
      "4766,2024-03-20T00:00:00.000Z,DR,SEVERE STORMS AND FLOODING,RI,44,009,\"Washington (County)(in (P)MSA 5520,6480)\"\n",
      "4764,2024-03-20T00:00:00.000Z,DR,SEVERE STORMS AND FLOODING,ME,23,031,\"York (County)(in MSA 6400,6450)\"\n",
      "4764,2024-03-20T00:00:00.000Z,DR,SEVERE STORMS AND FLOODING,ME,23,027,Waldo (County)\n",
      "4764,2024-03-20T00:00:00.000Z,DR,SEVERE STORMS AND FLOODING,ME,23,023,Sagadahoc (County)\n",
      "4764,2024-03-20T00:00:00.000Z,DR,SEVERE STORMS AND FLOODING,ME,23,015,Lincoln (County)\n",
      "4764,2024-03-20T00:00:00.000Z,DR,SEVERE STORMS AND FLOODING,ME,23,013,Knox (County)\n",
      "4764,2024-03-20T00:00:00.000Z,DR,SEVERE STORMS AND FLOODING,ME,23,009,Hancock (County)\n",
      "4764,2024-03-20T00:00:00.000Z,DR,SEVERE STORMS AND FLOODING,ME,23,005,Cumberland (County)\n",
      "4766,2024-03-20T00:00:00.000Z,DR,SEVERE STORMS AND FLOODING,RI,44,007,\"Providence (County)(in PMSA 6060,6480)\"\n",
      "4765,2024-03-20T00:00:00.000Z,DR,SEVERE STORM AND FLOODING,RI,44,003,Kent (County)\n",
      "4765,2024-03-20T00:00:00.000Z,DR,SEVERE STORM AND FLOODING,RI,44,007,\"Providence (County)(in PMSA 6060,6480)\"\n",
      "4765,2024-03-20T00:00:00.000Z,DR,SEVERE STORM AND FLOODING,RI,44,009,\"Washington (County)(in (P)MSA 5520,6480)\"\n",
      "4763,2024-03-15T00:00:00.000Z,DR,\"SEVERE STORM, LANDSLIDES, AND MUDSLIDES\",AK,02,000,Sealaska (Native Regional Corporation)\n",
      "4762,2024-03-02T00:00:00.000Z,DR,SEVERE STORM AND FLOODING,VT,50,027,Windsor (County)\n",
      "4762,2024-03-02T00:00:00.000Z,DR,SEVERE STORM AND FLOODING,VT,50,017,Orange (County)\n",
      "4762,2024-03-02T00:00:00.000Z,DR,SEVERE STORM AND FLOODING,VT,50,019,Orleans (County)\n",
      "4762,2024-03-02T00:00:00.000Z,DR,SEVERE STORM AND FLOODING,VT,50,021,Rutland (County)\n",
      "4762,2024-03-02T00:00:00.000Z,DR,SEVERE STORM AND FLOODING,VT,50,025,Windham (County)\n",
      "4762,2024-03-02T00:00:00.000Z,DR,SEVERE STORM AND FLOODING,VT,50,009,Essex (County)\n",
      "4762,2024-03-02T00:00:00.000Z,DR,SEVERE STORM AND FLOODING,VT,50,015,Lamoille (County)\n",
      "4761,2024-02-27T00:00:00.000Z,DR,SEVERE STORM AND FLOODING,NH,33,007,Coos (County)\n",
      "4761,2024-02-27T00:00:00.000Z,DR,SEVERE STORM AND FLOODING,NH,33,009,Grafton (County)\n",
      "4761,2024-02-27T00:00:00.000Z,DR,SEVERE STORM AND FLOODING,NH,33,003,Carroll (County)\n",
      "4758,2024-02-19T00:00:00.000Z,DR,SEVERE STORM AND FLOODING,CA,06,073,San Diego (County)\n",
      "4760,2024-02-15T00:00:00.000Z,DR,SEVERE WINTER STORM AND STRAIGHT-LINE WINDS,ND,38,051,McIntosh (County)\n",
      "4760,2024-02-15T00:00:00.000Z,DR,SEVERE WINTER STORM AND STRAIGHT-LINE WINDS,ND,38,037,Grant (County)\n",
      "4760,2024-02-15T00:00:00.000Z,DR,SEVERE WINTER STORM AND STRAIGHT-LINE WINDS,ND,38,017,Cass (County)\n",
      "4760,2024-02-15T00:00:00.000Z,DR,SEVERE WINTER STORM AND STRAIGHT-LINE WINDS,ND,38,021,Dickey (County)\n",
      "4760,2024-02-15T00:00:00.000Z,DR,SEVERE WINTER STORM AND STRAIGHT-LINE WINDS,ND,38,045,LaMoure (County)\n",
      "4759,2024-02-15T00:00:00.000Z,DR,WILDFIRES,WA,53,075,Whitman (County)\n",
      "4760,2024-02-15T00:00:00.000Z,DR,SEVERE WINTER STORM AND STRAIGHT-LINE WINDS,ND,38,047,Logan (County)\n",
      "4759,2024-02-15T00:00:00.000Z,DR,WILDFIRES,WA,53,063,Spokane (County)\n",
      "4760,2024-02-15T00:00:00.000Z,DR,SEVERE WINTER STORM AND STRAIGHT-LINE WINDS,ND,38,073,Ransom (County)\n",
      "4760,2024-02-15T00:00:00.000Z,DR,SEVERE WINTER STORM AND STRAIGHT-LINE WINDS,ND,38,077,Richland (County)\n",
      "4760,2024-02-15T00:00:00.000Z,DR,SEVERE WINTER STORM AND STRAIGHT-LINE WINDS,ND,38,081,Sargent (County)\n",
      "4760,2024-02-15T00:00:00.000Z,DR,SEVERE WINTER STORM AND STRAIGHT-LINE WINDS,ND,38,091,Steele (County)\n",
      "4760,2024-02-15T00:00:00.000Z,DR,SEVERE WINTER STORM AND STRAIGHT-LINE WINDS,ND,38,093,Stutsman (County)\n",
      "4760,2024-02-15T00:00:00.000Z,DR,SEVERE WINTER STORM AND STRAIGHT-LINE WINDS,ND,38,097,Traill (County)\n",
      "4760,2024-02-15T00:00:00.000Z,DR,SEVERE WINTER STORM AND STRAIGHT-LINE WINDS,ND,38,003,Barnes (County)\n",
      "4757,2024-02-08T00:00:00.000Z,DR,\"SEVERE STORMS, TORNADOES, AND FLOODING\",MI,26,093,Livingston (County)\n",
      "4757,2024-02-08T00:00:00.000Z,DR,\"SEVERE STORMS, TORNADOES, AND FLOODING\",MI,26,067,Ionia (County)\n",
      "4757,2024-02-08T00:00:00.000Z,DR,\"SEVERE STORMS, TORNADOES, AND FLOODING\",MI,26,065,Ingham (County)\n",
      "4757,2024-02-08T00:00:00.000Z,DR,\"SEVERE STORMS, TORNADOES, AND FLOODING\",MI,26,045,Eaton (County)\n",
      "4757,2024-02-08T00:00:00.000Z,DR,\"SEVERE STORMS, TORNADOES, AND FLOODING\",MI,26,163,Wayne (County)\n",
      "4757,2024-02-08T00:00:00.000Z,DR,\"SEVERE STORMS, TORNADOES, AND FLOODING\",MI,26,125,Oakland (County)\n",
      "4757,2024-02-08T00:00:00.000Z,DR,\"SEVERE STORMS, TORNADOES, AND FLOODING\",MI,26,115,Monroe (County)\n",
      "4757,2024-02-08T00:00:00.000Z,DR,\"SEVERE STORMS, TORNADOES, AND FLOODING\",MI,26,099,Macomb (County)\n",
      "4757,2024-02-08T00:00:00.000Z,DR,\"SEVERE STORMS, TORNADOES, AND FLOODING\",MI,26,081,Kent (County)\n",
      "\n"
     ]
    }
   ],
   "source": [
    "# define a query - use parameters to return several fields, sort, pick only the first 3 VA disasters, and deliver as csv\n",
    "select = \"?$select=disasterNumber,declarationDate,declarationType,declarationTitle,state,fipsStateCode,fipsCountyCode,designatedArea\"\n",
    "# filter = \"&$filter=state%20eq%20%27ME%27\"\n",
    "# filter = \"&$filter=disasterNumber%20eq%204766\" #4776\" \n",
    "# filter = \"&$filter=(declarationType%20eq%20%27DR%27%20and%20state%20eq%20%27ME%27)\"\n",
    "# filter = \"&$filter=state%20eq%20%27KY%27%20and%20ihProgramDeclared%20eq%20true\"\n",
    "filter = \"&$filter=(declarationType%20eq%20%27DR%27%20and%20declarationDate%20gt%20%272024-01-31%27)\" #%20or%20lastRefresh%20gt%20%272024-04-01%27)\"\n",
    "orderby = \"&$orderby=declarationDate%20desc\"\n",
    "limit = \"&$top=150\"\n",
    "format = \"&$format=csv\"\n",
    "\n",
    "#parameters = \"?$inlinecount=allpages&$filter=(declarationType%20eq%20%27DR%27%20and%20declarationDate%20gt%20%272024-04-01%27)\"\n",
    "#parameters = \"?$inlinecount=allpages&$filter=(declarationType%20eq%20%27DR%27%20and%20lastRefresh%20gt%20%272024-04-01%27)\"\n",
    "# open the URL combined with the parameters and create the request object \n",
    "#request = urllib.request.urlopen(baseUrl + parameters)\n",
    "\n",
    "# open the URL combined with the query and create a the request object \n",
    "# request = urllib.request.urlopen(baseUrl + select + orderby + limit + format)\n",
    "request = urllib.request.urlopen(baseUrl + select + filter + orderby + limit + format)\n",
    "\n",
    "# actually read the data\n",
    "result = request.read()\n",
    "\n",
    "# decode the data\n",
    "csvData = result.decode('utf-8')\n",
    "\n",
    "print(csvData)"
   ]
  },
  {
   "cell_type": "code",
   "execution_count": null,
   "id": "7372738c-6839-4fc6-a437-812458ef0005",
   "metadata": {},
   "outputs": [],
   "source": [
    "# define the csv library\n",
    "import csv\n",
    "\n",
    "# transform to Python dictionary\n",
    "csvData = result.decode('utf-8')\n",
    "\n",
    "# save data\n",
    "with open(\"disaster_declarations_20240502.csv\", \"w\") as fp1:\n",
    "    fp1.write(csvData)\n",
    "    \n",
    "# define a dictionary variable to hold our data\n",
    "dictData = []\n",
    "\n",
    "# open file and read using csv library DictReader \n",
    "with open('disaster_declarations_20240502.csv', \"r\") as fp1:\n",
    "    csvReader = csv.DictReader(fp1)\n",
    "    \n",
    "    # add each row of our data (now a dictionary) to our list\n",
    "    for row in csvReader:\n",
    "        dictData.append(row)\n",
    "    \n",
    "# now we have a data structure that we can work with as if we retrieved json data\n",
    "print(json.dumps(dictData, indent=2))"
   ]
  },
  {
   "cell_type": "code",
   "execution_count": null,
   "id": "fd5796fb-78cd-44b2-a047-51b2cf35fa3c",
   "metadata": {},
   "outputs": [],
   "source": [
    "for rec in jsonData['DisasterDeclarationsSummaries']:\n",
    "    #if rec.get('declarationType') == 'Major Disaster' and rec.get('ihProgramDeclared')==True and rec.get('iaProgramDeclared')==True:\n",
    "    #if rec.get('declarationType') == 'Major Disaster' and rec.get('iaProgramDeclared')==True:\n",
    "    #if rec.get('iaProgramDeclared')==False:      \n",
    "    #if rec.get('declarationType') == 'DR':\n",
    "    if rec.get('declarationType') in ('DR', 'EM'):\n",
    "        print(str(rec['disasterNumber']) + ', ' + rec['declarationType'] + ', ' + rec['state'] + ', ' + rec['fipsStateCode'] + rec['fipsCountyCode'] + ', ' + rec['declarationTitle'] + ', ' + rec['declarationDate'])"
   ]
  },
  {
   "cell_type": "code",
   "execution_count": null,
   "id": "eaa0836d-abf2-4307-9515-36f70107977e",
   "metadata": {},
   "outputs": [],
   "source": [
    "import pandas as pd"
   ]
  },
  {
   "cell_type": "code",
   "execution_count": null,
   "id": "b735be32-6710-4005-803e-5a3c1453c075",
   "metadata": {},
   "outputs": [],
   "source": [
    "# df = pd.DataFrame(jsonData['FemaWebDisasterDeclarations'])\n",
    "df = pd.DataFrame(jsonData)\n"
   ]
  },
  {
   "cell_type": "markdown",
   "id": "59a86801-c428-4e1f-b829-82dda9b5f292",
   "metadata": {},
   "source": [
    "To reference an individual value, simply address the desired element/field as the next dimension in the json object. The following will display the disaster name for the first record in the dataset array."
   ]
  },
  {
   "cell_type": "code",
   "execution_count": null,
   "id": "41b2428d-cace-42e2-a8c8-89bf82301e8d",
   "metadata": {},
   "outputs": [],
   "source": [
    "# name of the first disaster record in the dataset\n",
    "jsonData['FemaWebDisasterDeclarations'][0]['disasterName']"
   ]
  },
  {
   "cell_type": "markdown",
   "id": "87025943-c40a-4146-b124-46bd91b62e75",
   "metadata": {},
   "source": [
    "To count the number of records/json objects returned, use the length function as the following example illustrates. The count could be used for verification purposes or could be used as part of a looping construct.\n",
    "\n",
    "<div class=\"alert alert-block alert-warning\">\n",
    "    <b>Note:</b> The number of records in this case is 1,000. By default, the OpenFEMA API will only return 1,000 records for performance reasons. A parameter can be set to increase the maximum returned records to 10,000. To retrieve more than this requires a \"paging\" technique - making multiple API calls until all the data has been retrieved. This concept will be discussed in future tutorials.\n",
    "</div>"
   ]
  },
  {
   "cell_type": "code",
   "execution_count": null,
   "id": "ee9848af-1dd8-4c44-9626-8cef403eefbb",
   "metadata": {},
   "outputs": [],
   "source": [
    "# count the number of records in the dataset object using the length function\n",
    "len(jsonData['FemaWebDisasterDeclarations'])"
   ]
  },
  {
   "cell_type": "code",
   "execution_count": null,
   "id": "6f6f118f-31c0-4cbd-92f3-acd464509a3b",
   "metadata": {},
   "outputs": [],
   "source": [
    "df"
   ]
  },
  {
   "cell_type": "code",
   "execution_count": null,
   "id": "8e85ce88-8fe7-4022-98f3-13c32ee9bfea",
   "metadata": {},
   "outputs": [],
   "source": [
    "# Filter the DataFrame\n",
    "filtered_df = df[(df['declarationType'] == 'Major Disaster')] # & (df['ihProgramDeclared'] == True)]\n",
    "\n",
    "# Iterate over the filtered DataFrame\n",
    "for index, rec in filtered_df.iterrows():\n",
    "    print(str(rec['disasterNumber']) + ', ' + rec['disasterName'] + ', ' + rec['stateName'] + ', ' + rec['declarationDate'])"
   ]
  },
  {
   "cell_type": "code",
   "execution_count": null,
   "id": "9a45dab7-c738-4eba-a5c4-10f0aa0e2cce",
   "metadata": {},
   "outputs": [],
   "source": []
  },
  {
   "cell_type": "code",
   "execution_count": null,
   "id": "4dbe5882-9a6d-4d8c-a7be-56be84dedc0e",
   "metadata": {},
   "outputs": [],
   "source": [
    "# Assuming jsonData is a dictionary with 'FemaWebDisasterDeclarations' containing a list of records\n",
    "# Convert it to a DataFrame if it's not already\n",
    "\n",
    "jsonData = {'FemaWebDisasterDeclarations': [\n",
    "    {'disasterNumber': 1, 'disasterName': 'Disaster1', 'stateName': 'State1', 'declarationDate': '2024-01-01', 'declarationType': 'Major Disaster', 'ihProgramDeclared': True},\n",
    "    {'disasterNumber': 2, 'disasterName': 'Disaster2', 'stateName': 'State2', 'declarationDate': '2024-02-02', 'declarationType': 'Major Disaster', 'ihProgramDeclared': False},\n",
    "    {'disasterNumber': 3, 'disasterName': 'Disaster3', 'stateName': 'State3', 'declarationDate': '2024-03-03', 'declarationType': 'Minor Disaster', 'ihProgramDeclared': True}\n",
    "]}"
   ]
  }
 ],
 "metadata": {
  "kernelspec": {
   "display_name": "Python 3",
   "language": "python",
   "name": "python3"
  },
  "language_info": {
   "codemirror_mode": {
    "name": "ipython",
    "version": 3
   },
   "file_extension": ".py",
   "mimetype": "text/x-python",
   "name": "python",
   "nbconvert_exporter": "python",
   "pygments_lexer": "ipython3",
   "version": "3.10.13"
  }
 },
 "nbformat": 4,
 "nbformat_minor": 5
}
