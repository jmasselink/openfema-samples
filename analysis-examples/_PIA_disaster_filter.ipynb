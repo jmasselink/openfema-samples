{
 "cells": [
  {
   "cell_type": "markdown",
   "id": "88fd0ee2-d3c6-4d11-aa47-38b8c9a513cb",
   "metadata": {},
   "source": [
    "#### OpenFEMA API\n",
    "We will likely want to query one of these OpenFEMA endpoints\n",
    "- FEMA Web Disaster Declarations endpoint:\n",
    "https://www.fema.gov/api/open/v1/FemaWebDisasterDeclarations\n",
    "\n",
    "<b>[documentation](https://www.fema.gov/openfema-data-page/fema-web-disaster-declarations-v1)</b>\n",
    "\n",
    "- or Disaster Declaration Summaries endpoint:\n",
    "https://www.fema.gov/api/open/v2/DisasterDeclarationsSummaries  \n",
    "\n",
    "<b>[documentation](https://www.fema.gov/openfema-data-page/disaster-declarations-summaries-v2)</b>\n",
    "\n",
    "<div class=\"alert alert-block alert-warning\"><b>From the API documentation:</b><br>\n",
    "To determine which FEMA events have been authorized to receive Individual Assistance, use both <b>ihProgramDeclared</b> and <b>iaProgramDeclared</b>. \n",
    "    \n",
    "For more information see https://www.fema.gov/about/openfema/faq`\n",
    "\n",
    "For more information on the program, please visit https://www.fema.gov/assistance/individual/program.\n",
    "</div>"
   ]
  },
  {
   "cell_type": "markdown",
   "id": "82a1badb-d976-420d-b527-60aaf79a8d76",
   "metadata": {},
   "source": [
    "**Name**|**Title**|**Type**|**Description**|**Is Searchable**\n",
    "|-----|-----|-----|-----|-----|\n",
    "|ihProgramDeclared|IH Program Declared|boolean|Denotes whether the Individuals and Households program was declared for this disaster.| yes|\n",
    "|iaProgramDeclared|IA Program Declared|boolean|Denotes whether the Individual Assistance program was declared for this disaster. | yes|"
   ]
  },
  {
   "cell_type": "markdown",
   "id": "eb1fd8ad-9d3f-48ea-b11e-3c95d6e20aa9",
   "metadata": {},
   "source": [
    "## FEMA Web Disaster Declarations (v1)"
   ]
  },
  {
   "cell_type": "code",
   "execution_count": 1,
   "id": "3cbf1a7e-a126-4a55-a29c-e0d71af4a4b3",
   "metadata": {},
   "outputs": [
    {
     "name": "stdout",
     "output_type": "stream",
     "text": [
      "b'{\"metadata\": {\"skip\":0,\"filter\":\"\",\"orderby\":\"\",\"select\":null,\"rundate\":\"2024-07-16T17:18:25.627Z\",\"'\n"
     ]
    }
   ],
   "source": [
    "# declare a URL handling module\n",
    "import urllib.request\n",
    "\n",
    "# define URL for the Disaster Declarations Summaries endpoint\n",
    "baseUrl = \"https://www.fema.gov/api/open/v1/FemaWebDisasterDeclarations\"\n",
    "\n",
    "# open the URL as defined above and create a the request object \n",
    "request = urllib.request.urlopen(baseUrl)\n",
    "# actually read the data\n",
    "result = request.read()\n",
    "# printing the full result will be huge, so only show the first 100 characters of what was returned\n",
    "print(result[:100])"
   ]
  },
  {
   "cell_type": "code",
   "execution_count": 2,
   "id": "7289521b-9315-4ba0-805b-4e95e9de7239",
   "metadata": {},
   "outputs": [],
   "source": [
    "import json\n",
    "\n",
    "# transform to Python dictionary\n",
    "jsonData = json.loads(result.decode('utf-8'))"
   ]
  },
  {
   "cell_type": "code",
   "execution_count": 3,
   "id": "f42ea866-be9b-4cca-a28a-aa80cc651a00",
   "metadata": {},
   "outputs": [
    {
     "data": {
      "text/plain": [
       "dict_keys(['metadata', 'FemaWebDisasterDeclarations'])"
      ]
     },
     "execution_count": 3,
     "metadata": {},
     "output_type": "execute_result"
    }
   ],
   "source": [
    "# display the top level returned objects\n",
    "jsonData.keys()"
   ]
  },
  {
   "cell_type": "markdown",
   "id": "72bf0ccc-a377-4f70-a619-565cc222fd1c",
   "metadata": {},
   "source": [
    "### Metadata Object\n",
    "A summary of the metadata object elements can be found near the bottom of [OpenFEMA API Documentation](https://www.fema.gov/about/openfema/api). Essentially, this information summarizes the query you executed - the time it was run, filters applied, fields selected, endpoint name, etc. We can display just this object as follows:"
   ]
  },
  {
   "cell_type": "code",
   "execution_count": 4,
   "id": "f4768f4d-143e-4d83-b9a8-e3d72cde9e35",
   "metadata": {},
   "outputs": [
    {
     "name": "stdout",
     "output_type": "stream",
     "text": [
      "{\n",
      "  \"disasterNumber\": 4734,\n",
      "  \"declarationDate\": \"2023-08-31T00:00:00.000Z\",\n",
      "  \"disasterName\": \"HURRICANE IDALIA\",\n",
      "  \"incidentBeginDate\": \"2023-08-27T00:00:00.000Z\",\n",
      "  \"incidentEndDate\": \"2023-09-04T00:00:00.000Z\",\n",
      "  \"declarationType\": \"Major Disaster\",\n",
      "  \"stateCode\": \"FL\",\n",
      "  \"stateName\": \"Florida                       \",\n",
      "  \"incidentType\": \"Hurricane\",\n",
      "  \"entryDate\": \"2023-08-31T00:00:00.000Z\",\n",
      "  \"updateDate\": \"2023-10-02T00:00:00.000Z\",\n",
      "  \"closeoutDate\": null,\n",
      "  \"region\": 4,\n",
      "  \"ihProgramDeclared\": true,\n",
      "  \"iaProgramDeclared\": false,\n",
      "  \"paProgramDeclared\": true,\n",
      "  \"hmProgramDeclared\": true,\n",
      "  \"id\": \"7039b9e8-8e40-411a-b3bd-ecb27b37d535\",\n",
      "  \"hash\": \"b2327cb14c124443d7e00b898be990718576195f\",\n",
      "  \"lastRefresh\": \"2023-10-02T22:21:25.390Z\"\n",
      "}\n"
     ]
    }
   ],
   "source": [
    "# display the first record in the dataset object in a pretty format\n",
    "print(json.dumps(jsonData['FemaWebDisasterDeclarations'][0], indent=2))"
   ]
  },
  {
   "cell_type": "code",
   "execution_count": 5,
   "id": "58000ac3-66ce-4092-aaf0-2f8b25555b3c",
   "metadata": {},
   "outputs": [
    {
     "name": "stdout",
     "output_type": "stream",
     "text": [
      "{\n",
      "  \"skip\": 0,\n",
      "  \"filter\": \"\",\n",
      "  \"orderby\": \"\",\n",
      "  \"select\": null,\n",
      "  \"rundate\": \"2024-07-16T17:18:25.627Z\",\n",
      "  \"top\": 1000,\n",
      "  \"format\": \"json\",\n",
      "  \"metadata\": true,\n",
      "  \"entityname\": \"FemaWebDisasterDeclarations\",\n",
      "  \"version\": \"v1\",\n",
      "  \"url\": \"/api/open/v1/FemaWebDisasterDeclarations\",\n",
      "  \"count\": 0\n",
      "}\n"
     ]
    }
   ],
   "source": [
    "# use the dumps() function to display only the metadata object\n",
    "print(json.dumps(jsonData['metadata'], indent=2))"
   ]
  },
  {
   "cell_type": "code",
   "execution_count": 6,
   "id": "16d18ed5-2968-43ed-b703-4ed9b737b2d5",
   "metadata": {},
   "outputs": [
    {
     "name": "stdout",
     "output_type": "stream",
     "text": [
      "4692, EARTHQUAKE, California                    , 2023-03-08T00:00:00.000Z\n",
      "4548, EARTHQUAKE AND AFTERSHOCKS, Utah                          , 2020-07-09T00:00:00.000Z\n",
      "4473, EARTHQUAKES, Puerto Rico                   , 2020-01-16T00:00:00.000Z\n",
      "3426, EARTHQUAKES, Puerto Rico                   , 2020-01-07T00:00:00.000Z\n",
      "3415, EARTHQUAKES, California                    , 2019-07-08T00:00:00.000Z\n",
      "4413, EARTHQUAKE, Alaska                        , 2019-01-31T00:00:00.000Z\n",
      "3410, EARTHQUAKE, Alaska                        , 2018-11-30T00:00:00.000Z\n"
     ]
    }
   ],
   "source": [
    "# loop through the records and print the number, name, and location of the earthquakes\n",
    "for rec in jsonData['FemaWebDisasterDeclarations']:\n",
    "    # if rec.get('incidentType') == 'Severe Storms':#'Earthquake':\n",
    "    if rec.get('incidentType') == 'Earthquake':\n",
    "        print(str(rec['disasterNumber']) + ', ' + rec['disasterName'] + ', ' + rec['stateName'] + ', ' + rec['declarationDate'])"
   ]
  },
  {
   "cell_type": "code",
   "execution_count": 7,
   "id": "5cdd29bf-0885-431d-9713-91b8245e371c",
   "metadata": {},
   "outputs": [
    {
     "name": "stdout",
     "output_type": "stream",
     "text": [
      "1605, HURRICANE KATRINA, Alabama                       , 2005-08-29T00:00:00.000Z\n",
      "1731, WILDFIRES, FLOODING, MUD FLOWS, AND DEBRIS FLOWS, California                    , 2007-10-24T00:00:00.000Z\n",
      "1780, HURRICANE DOLLY, Texas                         , 2008-07-24T00:00:00.000Z\n",
      "1771, SEVERE STORMS AND FLOODING, Illinois                      , 2008-06-24T00:00:00.000Z\n",
      "1768, SEVERE STORMS, TORNADOES, AND FLOODING, Wisconsin                     , 2008-06-14T00:00:00.000Z\n",
      "1717, SEVERE STORMS AND FLOODING, Minnesota                     , 2007-08-23T00:00:00.000Z\n",
      "1580, SEVERE WINTER STORMS, FLOODING, AND MUDSLIDES, Ohio                          , 2005-02-15T00:00:00.000Z\n",
      "1556, SEVERE STORMS AND FLOODING, Ohio                          , 2004-09-19T00:00:00.000Z\n",
      "1453, SEVERE WINTER STORM AND RECORD/NEAR RECORD SNOW, Ohio                          , 2003-03-14T00:00:00.000Z\n",
      "1419, SEVERE STORMS, FLOODING AND TORNADOES, Minnesota                     , 2002-06-14T00:00:00.000Z\n",
      "1370, SEVERE WINTER STORMS, FLOODING, AND TORNADOES, Minnesota                     , 2001-05-16T00:00:00.000Z\n",
      "1369, FLOODING, SEVERE STORMS AND TORNADOES, Wisconsin                     , 2001-05-11T00:00:00.000Z\n",
      "1702, SEVERE STORMS, TORNADOES, AND FLOODING, South Dakota                  , 2007-05-22T00:00:00.000Z\n",
      "1628, SEVERE STORMS, FLOODING, MUDSLIDES, AND LANDSLIDES, California                    , 2006-02-03T00:00:00.000Z\n",
      "1577, SEVERE STORMS, FLOODING, DEBRIS FLOWS, AND MUDSLIDES, California                    , 2005-02-04T00:00:00.000Z\n",
      "1498, WILDFIRES, FLOODING, MUDFLOW AND DEBRIS FLOW DIRECTLY RELATED T , California                    , 2003-10-27T00:00:00.000Z\n",
      "1446, SUPER TYPHOON PONGSONA, Guam                          , 2002-12-08T00:00:00.000Z\n",
      "1426, TYPHOON CHATA'AN, Guam                          , 2002-07-06T00:00:00.000Z\n",
      "1334, SEVERE STORMS, FLOODING AND GROUND SATURATION, North Dakota                  , 2000-06-27T00:00:00.000Z\n",
      "1279, SEVERE STORMS, FLOODING, SNOW, ICE, GROUND SATURATION, LANSLIDES, MUDSLIDES, AND TOR, North Dakota                  , 1999-06-08T00:00:00.000Z\n",
      "1511, TYPHOON SUDAL, Federated States of Micronesia, 2004-04-10T00:00:00.000Z\n",
      "1427, TS CHATA'AN, INC FLOODING, MUDSLIDES AND LANDSLIDES, Federated States of Micronesia, 2002-07-11T00:00:00.000Z\n",
      "3093, DROUGHT, Federated States of Micronesia, 1992-05-20T00:00:00.000Z\n",
      "926, TYPHOON YURI, Federated States of Micronesia, 1991-12-10T00:00:00.000Z\n",
      "892, TYPHOON RUSS, Federated States of Micronesia, 1991-01-17T00:00:00.000Z\n",
      "886, TYPHOON OWEN, Federated States of Micronesia, 1990-12-14T00:00:00.000Z\n",
      "803, TYPHOON NINA, Federated States of Micronesia, 1987-11-25T00:00:00.000Z\n",
      "786, TYPHOON ORCHID, Federated States of Micronesia, 1987-02-02T00:00:00.000Z\n",
      "765, TYPHOON LOLA, Federated States of Micronesia, 1986-06-03T00:00:00.000Z\n",
      "611, SEAWAVE ACTION & FLOODING, Federated States of Micronesia, 1979-12-01T00:00:00.000Z\n",
      "506, TYPHOON PAMELA, Federated States of Micronesia, 1976-06-08T00:00:00.000Z\n",
      "502, TYPHOON MARIE, Federated States of Micronesia, 1976-04-22T00:00:00.000Z\n",
      "235, TYPHOON JEAN, Federated States of Micronesia, 1968-04-18T00:00:00.000Z\n",
      "225, TYPHOON SALLY, Federated States of Micronesia, 1967-03-21T00:00:00.000Z\n",
      "181, TYPHOON LOUISE, Federated States of Micronesia, 1964-12-10T00:00:00.000Z\n",
      "154, TYPHOON OLIVE, Federated States of Micronesia, 1963-04-30T00:00:00.000Z\n"
     ]
    }
   ],
   "source": [
    "for rec in jsonData['FemaWebDisasterDeclarations']:\n",
    "    #if rec.get('declarationType') == 'Major Disaster' and rec.get('ihProgramDeclared')==True and rec.get('iaProgramDeclared')==True:\n",
    "    #if rec.get('declarationType') == 'Major Disaster' and rec.get('iaProgramDeclared')==True:\n",
    "    if rec.get('iaProgramDeclared')==True:      \n",
    "        print(str(rec['disasterNumber']) + ', ' + rec['disasterName'] + ', ' + rec['stateName'] + ', ' + rec['declarationDate'])"
   ]
  },
  {
   "cell_type": "markdown",
   "id": "5b4ef158-cf3c-4bcd-9482-3358749137bc",
   "metadata": {},
   "source": [
    "### Dataset Object - FemaWebDisasterDeclarations\n",
    "Unlike the metadata object, the dataset object is an array of json objects - each of which represents a record in the dataset. We can display one of the objects as follows where the object name is the dataset name and the second dimension of the dictionary is an index representing the record we want. See the data dictionary on the dataset specific webpage (https://www.fema.gov/openfema-data-page/fema-web-disaster-declarations-v1) for field descriptions, data types, and more."
   ]
  },
  {
   "cell_type": "markdown",
   "id": "55265c27-2aa3-4e33-9416-ec9c72c27259",
   "metadata": {},
   "source": [
    "## Disaster Declarations Summaries (v2)"
   ]
  },
  {
   "cell_type": "code",
   "execution_count": 8,
   "id": "0abf9b15-b158-4cd7-b3d8-c8615b6044e5",
   "metadata": {},
   "outputs": [
    {
     "name": "stdout",
     "output_type": "stream",
     "text": [
      "b'{\"metadata\": {\"skip\":0,\"filter\":\"\",\"orderby\":\"\",\"select\":null,\"rundate\":\"2024-07-16T19:03:34.188Z\",\"'\n"
     ]
    }
   ],
   "source": [
    "import urllib.request\n",
    "baseUrl = \"https://www.fema.gov/api/open/v2/DisasterDeclarationsSummaries\"\n",
    "\n",
    "# define our parameters\n",
    "parameters = \"?$inlinecount=allpages\"\n",
    "request = urllib.request.urlopen(baseUrl + parameters)\n",
    "result = request.read()\n",
    "print(result[:100])"
   ]
  },
  {
   "cell_type": "code",
   "execution_count": null,
   "id": "8df08d2c-3871-41fc-8378-87f154f1fde7",
   "metadata": {},
   "outputs": [],
   "source": [
    "import json\n",
    "\n",
    "# transform to Python dictionary\n",
    "jsonData = json.loads(result.decode('utf-8'))"
   ]
  },
  {
   "cell_type": "code",
   "execution_count": null,
   "id": "8fa9ced7-17da-428f-85c9-b8f69928bf79",
   "metadata": {},
   "outputs": [],
   "source": [
    "# display the top level returned objects\n",
    "jsonData.keys()"
   ]
  },
  {
   "cell_type": "code",
   "execution_count": null,
   "id": "f9d0a3e3-62b8-413e-b90b-1581c90efeda",
   "metadata": {},
   "outputs": [],
   "source": [
    "print(json.dumps(jsonData['metadata']['count'], indent=2))"
   ]
  },
  {
   "cell_type": "code",
   "execution_count": null,
   "id": "3a8d2c9e-02e5-449e-be32-cc505888327f",
   "metadata": {},
   "outputs": [],
   "source": [
    "# use the dumps() function to display only the metadata object\n",
    "print(json.dumps(jsonData['DisasterDeclarationsSummaries'][0], indent=2))"
   ]
  },
  {
   "cell_type": "code",
   "execution_count": null,
   "id": "93fe9ef2-163c-42f2-b466-f8be802fa9a0",
   "metadata": {},
   "outputs": [],
   "source": [
    "# loop through the records and print the number, name, and location of the earthquakes\n",
    "for rec in jsonData['DisasterDeclarationsSummaries']:\n",
    "    if rec.get('incidentType') == 'Earthquake':\n",
    "        print(str(rec['disasterNumber']) + ', ' + rec['state'] + ', ' + rec['declarationTitle'] +', ' + rec['declarationDate'])"
   ]
  },
  {
   "cell_type": "code",
   "execution_count": null,
   "id": "f20606bc-5214-449a-8917-ce135e1a42c3",
   "metadata": {},
   "outputs": [],
   "source": [
    "# query the length of individual declarations since 2024-01-01\n",
    "# define our parameters\n",
    "# actually read the data\n",
    "result = request.read()\n",
    "\n",
    "# transform to Python dictionary\n",
    "jsonData = json.loads(result.decode('utf-8'))\n",
    "\n",
    "# display the metadata object, followed by a count of records returned\n",
    "print(json.dumps(jsonData['metadata'], indent=2))\n",
    "# len(jsonData['DisasterDeclarationsSummaries'])"
   ]
  },
  {
   "cell_type": "code",
   "execution_count": null,
   "id": "5c3f9011-b3a2-4aa0-b9a1-4a0195934830",
   "metadata": {},
   "outputs": [],
   "source": [
    "# define a query - use parameters to return several fields, sort, pick only the first 3 VA disasters, and deliver as csv\n",
    "select = \"?$select=disasterNumber,declarationDate,declarationType,declarationTitle,state,fipsStateCode,fipsCountyCode,designatedArea\"\n",
    "# filter = \"&$filter=state%20eq%20%27ME%27\"\n",
    "# filter = \"&$filter=disasterNumber%20eq%204766\" #4776\" \n",
    "# filter = \"&$filter=(declarationType%20eq%20%27DR%27%20and%20state%20eq%20%27ME%27)\"\n",
    "# filter = \"&$filter=state%20eq%20%27KY%27%20and%20ihProgramDeclared%20eq%20true\"\n",
    "filter = \"&$filter=(declarationType%20eq%20%27DR%27%20and%20declarationDate%20gt%20%272024-01-31%27)\" #%20or%20lastRefresh%20gt%20%272024-04-01%27)\"\n",
    "orderby = \"&$orderby=declarationDate%20desc\"\n",
    "limit = \"&$top=150\"\n",
    "format = \"&$format=csv\"\n",
    "\n",
    "#parameters = \"?$inlinecount=allpages&$filter=(declarationType%20eq%20%27DR%27%20and%20declarationDate%20gt%20%272024-04-01%27)\"\n",
    "#parameters = \"?$inlinecount=allpages&$filter=(declarationType%20eq%20%27DR%27%20and%20lastRefresh%20gt%20%272024-04-01%27)\"\n",
    "# open the URL combined with the parameters and create the request object \n",
    "#request = urllib.request.urlopen(baseUrl + parameters)\n",
    "\n",
    "# open the URL combined with the query and create a the request object \n",
    "# request = urllib.request.urlopen(baseUrl + select + orderby + limit + format)\n",
    "request = urllib.request.urlopen(baseUrl + select + filter + orderby + limit + format)\n",
    "\n",
    "# actually read the data\n",
    "result = request.read()\n",
    "\n",
    "# decode the data\n",
    "csvData = result.decode('utf-8')\n",
    "\n",
    "print(csvData)"
   ]
  },
  {
   "cell_type": "code",
   "execution_count": null,
   "id": "7372738c-6839-4fc6-a437-812458ef0005",
   "metadata": {},
   "outputs": [],
   "source": [
    "# define the csv library\n",
    "import csv\n",
    "\n",
    "# transform to Python dictionary\n",
    "csvData = result.decode('utf-8')\n",
    "\n",
    "# save data\n",
    "with open(\"disaster_declarations_20240502.csv\", \"w\") as fp1:\n",
    "    fp1.write(csvData)\n",
    "    \n",
    "# define a dictionary variable to hold our data\n",
    "dictData = []\n",
    "\n",
    "# open file and read using csv library DictReader \n",
    "with open('disaster_declarations_20240502.csv', \"r\") as fp1:\n",
    "    csvReader = csv.DictReader(fp1)\n",
    "    \n",
    "    # add each row of our data (now a dictionary) to our list\n",
    "    for row in csvReader:\n",
    "        dictData.append(row)\n",
    "    \n",
    "# now we have a data structure that we can work with as if we retrieved json data\n",
    "print(json.dumps(dictData, indent=2))"
   ]
  },
  {
   "cell_type": "code",
   "execution_count": null,
   "id": "fd5796fb-78cd-44b2-a047-51b2cf35fa3c",
   "metadata": {},
   "outputs": [],
   "source": [
    "for rec in jsonData['DisasterDeclarationsSummaries']:\n",
    "    #if rec.get('declarationType') == 'Major Disaster' and rec.get('ihProgramDeclared')==True and rec.get('iaProgramDeclared')==True:\n",
    "    #if rec.get('declarationType') == 'Major Disaster' and rec.get('iaProgramDeclared')==True:\n",
    "    #if rec.get('iaProgramDeclared')==False:      \n",
    "    #if rec.get('declarationType') == 'DR':\n",
    "    if rec.get('declarationType') in ('DR', 'EM'):\n",
    "        print(str(rec['disasterNumber']) + ', ' + rec['declarationType'] + ', ' + rec['state'] + ', ' + rec['fipsStateCode'] + rec['fipsCountyCode'] + ', ' + rec['declarationTitle'] + ', ' + rec['declarationDate'])"
   ]
  },
  {
   "cell_type": "code",
   "execution_count": null,
   "id": "eaa0836d-abf2-4307-9515-36f70107977e",
   "metadata": {},
   "outputs": [],
   "source": [
    "import pandas as pd"
   ]
  },
  {
   "cell_type": "code",
   "execution_count": null,
   "id": "b735be32-6710-4005-803e-5a3c1453c075",
   "metadata": {},
   "outputs": [],
   "source": [
    "# df = pd.DataFrame(jsonData['FemaWebDisasterDeclarations'])\n",
    "df = pd.DataFrame(jsonData)\n"
   ]
  },
  {
   "cell_type": "markdown",
   "id": "59a86801-c428-4e1f-b829-82dda9b5f292",
   "metadata": {},
   "source": [
    "To reference an individual value, simply address the desired element/field as the next dimension in the json object. The following will display the disaster name for the first record in the dataset array."
   ]
  },
  {
   "cell_type": "code",
   "execution_count": null,
   "id": "41b2428d-cace-42e2-a8c8-89bf82301e8d",
   "metadata": {},
   "outputs": [],
   "source": [
    "# name of the first disaster record in the dataset\n",
    "jsonData['FemaWebDisasterDeclarations'][0]['disasterName']"
   ]
  },
  {
   "cell_type": "markdown",
   "id": "87025943-c40a-4146-b124-46bd91b62e75",
   "metadata": {},
   "source": [
    "To count the number of records/json objects returned, use the length function as the following example illustrates. The count could be used for verification purposes or could be used as part of a looping construct.\n",
    "\n",
    "<div class=\"alert alert-block alert-warning\">\n",
    "    <b>Note:</b> The number of records in this case is 1,000. By default, the OpenFEMA API will only return 1,000 records for performance reasons. A parameter can be set to increase the maximum returned records to 10,000. To retrieve more than this requires a \"paging\" technique - making multiple API calls until all the data has been retrieved. This concept will be discussed in future tutorials.\n",
    "</div>"
   ]
  },
  {
   "cell_type": "code",
   "execution_count": null,
   "id": "ee9848af-1dd8-4c44-9626-8cef403eefbb",
   "metadata": {},
   "outputs": [],
   "source": [
    "# count the number of records in the dataset object using the length function\n",
    "len(jsonData['FemaWebDisasterDeclarations'])"
   ]
  },
  {
   "cell_type": "code",
   "execution_count": null,
   "id": "6f6f118f-31c0-4cbd-92f3-acd464509a3b",
   "metadata": {},
   "outputs": [],
   "source": [
    "df"
   ]
  },
  {
   "cell_type": "code",
   "execution_count": null,
   "id": "8e85ce88-8fe7-4022-98f3-13c32ee9bfea",
   "metadata": {},
   "outputs": [],
   "source": [
    "# Filter the DataFrame\n",
    "filtered_df = df[(df['declarationType'] == 'Major Disaster')] # & (df['ihProgramDeclared'] == True)]\n",
    "\n",
    "# Iterate over the filtered DataFrame\n",
    "for index, rec in filtered_df.iterrows():\n",
    "    print(str(rec['disasterNumber']) + ', ' + rec['disasterName'] + ', ' + rec['stateName'] + ', ' + rec['declarationDate'])"
   ]
  },
  {
   "cell_type": "code",
   "execution_count": null,
   "id": "9a45dab7-c738-4eba-a5c4-10f0aa0e2cce",
   "metadata": {},
   "outputs": [],
   "source": []
  },
  {
   "cell_type": "code",
   "execution_count": null,
   "id": "4dbe5882-9a6d-4d8c-a7be-56be84dedc0e",
   "metadata": {},
   "outputs": [],
   "source": [
    "# Assuming jsonData is a dictionary with 'FemaWebDisasterDeclarations' containing a list of records\n",
    "# Convert it to a DataFrame if it's not already\n",
    "\n",
    "jsonData = {'FemaWebDisasterDeclarations': [\n",
    "    {'disasterNumber': 1, 'disasterName': 'Disaster1', 'stateName': 'State1', 'declarationDate': '2024-01-01', 'declarationType': 'Major Disaster', 'ihProgramDeclared': True},\n",
    "    {'disasterNumber': 2, 'disasterName': 'Disaster2', 'stateName': 'State2', 'declarationDate': '2024-02-02', 'declarationType': 'Major Disaster', 'ihProgramDeclared': False},\n",
    "    {'disasterNumber': 3, 'disasterName': 'Disaster3', 'stateName': 'State3', 'declarationDate': '2024-03-03', 'declarationType': 'Minor Disaster', 'ihProgramDeclared': True}\n",
    "]}"
   ]
  }
 ],
 "metadata": {
  "kernelspec": {
   "display_name": "Data Science (datasci)",
   "language": "python",
   "name": "datasci"
  },
  "language_info": {
   "codemirror_mode": {
    "name": "ipython",
    "version": 3
   },
   "file_extension": ".py",
   "mimetype": "text/x-python",
   "name": "python",
   "nbconvert_exporter": "python",
   "pygments_lexer": "ipython3",
   "version": "3.12.2"
  }
 },
 "nbformat": 4,
 "nbformat_minor": 5
}
